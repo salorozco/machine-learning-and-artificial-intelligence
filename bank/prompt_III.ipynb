{
 "cells": [
  {
   "cell_type": "markdown",
   "metadata": {},
   "source": [
    "# Practical Application III: Comparing Classifiers\n",
    "\n",
    "**Overview**: In this practical application, your goal is to compare the performance of the classifiers we encountered in this section, namely K Nearest Neighbor, Logistic Regression, Decision Trees, and Support Vector Machines.  We will utilize a dataset related to marketing bank products over the telephone.  \n",
    "\n"
   ]
  },
  {
   "cell_type": "markdown",
   "metadata": {},
   "source": [
    "### Getting Started\n",
    "\n",
    "Our dataset comes from the UCI Machine Learning repository [link](https://archive.ics.uci.edu/ml/datasets/bank+marketing).  The data is from a Portugese banking institution and is a collection of the results of multiple marketing campaigns.  We will make use of the article accompanying the dataset [here](CRISP-DM-BANK.pdf) for more information on the data and features.\n",
    "\n"
   ]
  },
  {
   "cell_type": "markdown",
   "metadata": {},
   "source": [
    "### Problem 1: Understanding the Data\n",
    "\n",
    "To gain a better understanding of the data, please read the information provided in the UCI link above, and examine the **Materials and Methods** section of the paper.  How many marketing campaigns does this data represent?"
   ]
  },
  {
   "cell_type": "code",
   "execution_count": null,
   "metadata": {},
   "outputs": [],
   "source": []
  },
  {
   "cell_type": "markdown",
   "metadata": {},
   "source": [
    "### Problem 2: Read in the Data\n",
    "\n",
    "Use pandas to read in the dataset `bank-additional-full.csv` and assign to a meaningful variable name."
   ]
  },
  {
   "cell_type": "code",
   "execution_count": 13,
   "metadata": {},
   "outputs": [],
   "source": [
    "import pandas as pd\n",
    "import numpy as np\n",
    "import seaborn as sns\n",
    "import matplotlib.pyplot as plt\n",
    "import category_encoders as ce\n",
    "# from sklearn.pipeline import Pipeline\n",
    "from sklearn.compose import make_column_transformer\n",
    "from sklearn.preprocessing import StandardScaler, OneHotEncoder\n",
    "from sklearn.neighbors import KNeighborsClassifier\n",
    "from sklearn.model_selection import train_test_split\n",
    "from sklearn.metrics import accuracy_score, classification_report\n",
    "from sklearn.linear_model import LogisticRegression\n",
    "from sklearn.metrics import mean_absolute_error, mean_squared_error, r2_score\n",
    "from sklearn.metrics import accuracy_score, precision_score, recall_score, f1_score, roc_auc_score\n",
    "from sklearn.metrics import confusion_matrix\n",
    "from sklearn.tree import DecisionTreeClassifier\n",
    "from sklearn.svm import SVC\n",
    "from sklearn.model_selection import GridSearchCV\n",
    "from sklearn.metrics import roc_curve, auc\n",
    "from imblearn.over_sampling import SMOTE\n",
    "from imblearn.pipeline import Pipeline \n",
    "from sklearn.tree import plot_tree\n",
    "from collections import Counter\n",
    "import time\n",
    "\n",
    "import warnings\n",
    "import sys\n",
    "warnings.filterwarnings(\"ignore\", category=FutureWarning)"
   ]
  },
  {
   "cell_type": "code",
   "execution_count": 15,
   "metadata": {},
   "outputs": [],
   "source": [
    "df = pd.read_csv('data/bank-additional-full.csv', sep = ';')"
   ]
  },
  {
   "cell_type": "code",
   "execution_count": 112,
   "metadata": {},
   "outputs": [
    {
     "data": {
      "text/html": [
       "<div>\n",
       "<style scoped>\n",
       "    .dataframe tbody tr th:only-of-type {\n",
       "        vertical-align: middle;\n",
       "    }\n",
       "\n",
       "    .dataframe tbody tr th {\n",
       "        vertical-align: top;\n",
       "    }\n",
       "\n",
       "    .dataframe thead th {\n",
       "        text-align: right;\n",
       "    }\n",
       "</style>\n",
       "<table border=\"1\" class=\"dataframe\">\n",
       "  <thead>\n",
       "    <tr style=\"text-align: right;\">\n",
       "      <th></th>\n",
       "      <th>age</th>\n",
       "      <th>job</th>\n",
       "      <th>marital</th>\n",
       "      <th>education</th>\n",
       "      <th>default</th>\n",
       "      <th>housing</th>\n",
       "      <th>loan</th>\n",
       "      <th>contact</th>\n",
       "      <th>month</th>\n",
       "      <th>day_of_week</th>\n",
       "      <th>...</th>\n",
       "      <th>campaign</th>\n",
       "      <th>pdays</th>\n",
       "      <th>previous</th>\n",
       "      <th>poutcome</th>\n",
       "      <th>emp.var.rate</th>\n",
       "      <th>cons.price.idx</th>\n",
       "      <th>cons.conf.idx</th>\n",
       "      <th>euribor3m</th>\n",
       "      <th>nr.employed</th>\n",
       "      <th>y</th>\n",
       "    </tr>\n",
       "  </thead>\n",
       "  <tbody>\n",
       "    <tr>\n",
       "      <th>0</th>\n",
       "      <td>56</td>\n",
       "      <td>housemaid</td>\n",
       "      <td>married</td>\n",
       "      <td>basic.4y</td>\n",
       "      <td>no</td>\n",
       "      <td>no</td>\n",
       "      <td>no</td>\n",
       "      <td>telephone</td>\n",
       "      <td>may</td>\n",
       "      <td>mon</td>\n",
       "      <td>...</td>\n",
       "      <td>1</td>\n",
       "      <td>999</td>\n",
       "      <td>0</td>\n",
       "      <td>nonexistent</td>\n",
       "      <td>1.1</td>\n",
       "      <td>93.994</td>\n",
       "      <td>-36.4</td>\n",
       "      <td>4.857</td>\n",
       "      <td>5191.0</td>\n",
       "      <td>no</td>\n",
       "    </tr>\n",
       "    <tr>\n",
       "      <th>1</th>\n",
       "      <td>57</td>\n",
       "      <td>services</td>\n",
       "      <td>married</td>\n",
       "      <td>high.school</td>\n",
       "      <td>unknown</td>\n",
       "      <td>no</td>\n",
       "      <td>no</td>\n",
       "      <td>telephone</td>\n",
       "      <td>may</td>\n",
       "      <td>mon</td>\n",
       "      <td>...</td>\n",
       "      <td>1</td>\n",
       "      <td>999</td>\n",
       "      <td>0</td>\n",
       "      <td>nonexistent</td>\n",
       "      <td>1.1</td>\n",
       "      <td>93.994</td>\n",
       "      <td>-36.4</td>\n",
       "      <td>4.857</td>\n",
       "      <td>5191.0</td>\n",
       "      <td>no</td>\n",
       "    </tr>\n",
       "    <tr>\n",
       "      <th>2</th>\n",
       "      <td>37</td>\n",
       "      <td>services</td>\n",
       "      <td>married</td>\n",
       "      <td>high.school</td>\n",
       "      <td>no</td>\n",
       "      <td>yes</td>\n",
       "      <td>no</td>\n",
       "      <td>telephone</td>\n",
       "      <td>may</td>\n",
       "      <td>mon</td>\n",
       "      <td>...</td>\n",
       "      <td>1</td>\n",
       "      <td>999</td>\n",
       "      <td>0</td>\n",
       "      <td>nonexistent</td>\n",
       "      <td>1.1</td>\n",
       "      <td>93.994</td>\n",
       "      <td>-36.4</td>\n",
       "      <td>4.857</td>\n",
       "      <td>5191.0</td>\n",
       "      <td>no</td>\n",
       "    </tr>\n",
       "    <tr>\n",
       "      <th>3</th>\n",
       "      <td>40</td>\n",
       "      <td>admin.</td>\n",
       "      <td>married</td>\n",
       "      <td>basic.6y</td>\n",
       "      <td>no</td>\n",
       "      <td>no</td>\n",
       "      <td>no</td>\n",
       "      <td>telephone</td>\n",
       "      <td>may</td>\n",
       "      <td>mon</td>\n",
       "      <td>...</td>\n",
       "      <td>1</td>\n",
       "      <td>999</td>\n",
       "      <td>0</td>\n",
       "      <td>nonexistent</td>\n",
       "      <td>1.1</td>\n",
       "      <td>93.994</td>\n",
       "      <td>-36.4</td>\n",
       "      <td>4.857</td>\n",
       "      <td>5191.0</td>\n",
       "      <td>no</td>\n",
       "    </tr>\n",
       "    <tr>\n",
       "      <th>4</th>\n",
       "      <td>56</td>\n",
       "      <td>services</td>\n",
       "      <td>married</td>\n",
       "      <td>high.school</td>\n",
       "      <td>no</td>\n",
       "      <td>no</td>\n",
       "      <td>yes</td>\n",
       "      <td>telephone</td>\n",
       "      <td>may</td>\n",
       "      <td>mon</td>\n",
       "      <td>...</td>\n",
       "      <td>1</td>\n",
       "      <td>999</td>\n",
       "      <td>0</td>\n",
       "      <td>nonexistent</td>\n",
       "      <td>1.1</td>\n",
       "      <td>93.994</td>\n",
       "      <td>-36.4</td>\n",
       "      <td>4.857</td>\n",
       "      <td>5191.0</td>\n",
       "      <td>no</td>\n",
       "    </tr>\n",
       "  </tbody>\n",
       "</table>\n",
       "<p>5 rows × 21 columns</p>\n",
       "</div>"
      ],
      "text/plain": [
       "   age        job  marital    education  default housing loan    contact  \\\n",
       "0   56  housemaid  married     basic.4y       no      no   no  telephone   \n",
       "1   57   services  married  high.school  unknown      no   no  telephone   \n",
       "2   37   services  married  high.school       no     yes   no  telephone   \n",
       "3   40     admin.  married     basic.6y       no      no   no  telephone   \n",
       "4   56   services  married  high.school       no      no  yes  telephone   \n",
       "\n",
       "  month day_of_week  ...  campaign  pdays  previous     poutcome emp.var.rate  \\\n",
       "0   may         mon  ...         1    999         0  nonexistent          1.1   \n",
       "1   may         mon  ...         1    999         0  nonexistent          1.1   \n",
       "2   may         mon  ...         1    999         0  nonexistent          1.1   \n",
       "3   may         mon  ...         1    999         0  nonexistent          1.1   \n",
       "4   may         mon  ...         1    999         0  nonexistent          1.1   \n",
       "\n",
       "   cons.price.idx  cons.conf.idx  euribor3m  nr.employed   y  \n",
       "0          93.994          -36.4      4.857       5191.0  no  \n",
       "1          93.994          -36.4      4.857       5191.0  no  \n",
       "2          93.994          -36.4      4.857       5191.0  no  \n",
       "3          93.994          -36.4      4.857       5191.0  no  \n",
       "4          93.994          -36.4      4.857       5191.0  no  \n",
       "\n",
       "[5 rows x 21 columns]"
      ]
     },
     "execution_count": 112,
     "metadata": {},
     "output_type": "execute_result"
    }
   ],
   "source": [
    "df.head()"
   ]
  },
  {
   "cell_type": "markdown",
   "metadata": {},
   "source": [
    "### Problem 3: Understanding the Features\n",
    "\n",
    "\n",
    "Examine the data description below, and determine if any of the features are missing values or need to be coerced to a different data type.\n",
    "\n",
    "\n",
    "```\n",
    "Input variables:\n",
    "# bank client data:\n",
    "1 - age (numeric)\n",
    "2 - job : type of job (categorical: 'admin.','blue-collar','entrepreneur','housemaid','management','retired','self-employed','services','student','technician','unemployed','unknown')\n",
    "3 - marital : marital status (categorical: 'divorced','married','single','unknown'; note: 'divorced' means divorced or widowed)\n",
    "4 - education (categorical: 'basic.4y','basic.6y','basic.9y','high.school','illiterate','professional.course','university.degree','unknown')\n",
    "5 - default: has credit in default? (categorical: 'no','yes','unknown')\n",
    "6 - housing: has housing loan? (categorical: 'no','yes','unknown')\n",
    "7 - loan: has personal loan? (categorical: 'no','yes','unknown')\n",
    "# related with the last contact of the current campaign:\n",
    "8 - contact: contact communication type (categorical: 'cellular','telephone')\n",
    "9 - month: last contact month of year (categorical: 'jan', 'feb', 'mar', ..., 'nov', 'dec')\n",
    "10 - day_of_week: last contact day of the week (categorical: 'mon','tue','wed','thu','fri')\n",
    "11 - duration: last contact duration, in seconds (numeric). Important note: this attribute highly affects the output target (e.g., if duration=0 then y='no'). Yet, the duration is not known before a call is performed. Also, after the end of the call y is obviously known. Thus, this input should only be included for benchmark purposes and should be discarded if the intention is to have a realistic predictive model.\n",
    "# other attributes:\n",
    "12 - campaign: number of contacts performed during this campaign and for this client (numeric, includes last contact)\n",
    "13 - pdays: number of days that passed by after the client was last contacted from a previous campaign (numeric; 999 means client was not previously contacted)\n",
    "14 - previous: number of contacts performed before this campaign and for this client (numeric)\n",
    "15 - poutcome: outcome of the previous marketing campaign (categorical: 'failure','nonexistent','success')\n",
    "# social and economic context attributes\n",
    "16 - emp.var.rate: employment variation rate - quarterly indicator (numeric)\n",
    "17 - cons.price.idx: consumer price index - monthly indicator (numeric)\n",
    "18 - cons.conf.idx: consumer confidence index - monthly indicator (numeric)\n",
    "19 - euribor3m: euribor 3 month rate - daily indicator (numeric)\n",
    "20 - nr.employed: number of employees - quarterly indicator (numeric)\n",
    "\n",
    "Output variable (desired target):\n",
    "21 - y - has the client subscribed a term deposit? (binary: 'yes','no')\n",
    "```\n",
    "\n"
   ]
  },
  {
   "cell_type": "code",
   "execution_count": 6,
   "metadata": {},
   "outputs": [
    {
     "data": {
      "text/plain": [
       "age               0\n",
       "job               0\n",
       "marital           0\n",
       "education         0\n",
       "default           0\n",
       "housing           0\n",
       "loan              0\n",
       "contact           0\n",
       "month             0\n",
       "day_of_week       0\n",
       "duration          0\n",
       "campaign          0\n",
       "pdays             0\n",
       "previous          0\n",
       "poutcome          0\n",
       "emp.var.rate      0\n",
       "cons.price.idx    0\n",
       "cons.conf.idx     0\n",
       "euribor3m         0\n",
       "nr.employed       0\n",
       "y                 0\n",
       "dtype: int64"
      ]
     },
     "execution_count": 6,
     "metadata": {},
     "output_type": "execute_result"
    }
   ],
   "source": [
    "#Check for missing values\n",
    "df.isnull().sum()"
   ]
  },
  {
   "cell_type": "code",
   "execution_count": 115,
   "metadata": {},
   "outputs": [
    {
     "data": {
      "text/plain": [
       "12"
      ]
     },
     "execution_count": 115,
     "metadata": {},
     "output_type": "execute_result"
    }
   ],
   "source": [
    "#Check for duplicates \n",
    "df.duplicated().sum()"
   ]
  },
  {
   "cell_type": "code",
   "execution_count": 116,
   "metadata": {},
   "outputs": [
    {
     "data": {
      "text/html": [
       "<div>\n",
       "<style scoped>\n",
       "    .dataframe tbody tr th:only-of-type {\n",
       "        vertical-align: middle;\n",
       "    }\n",
       "\n",
       "    .dataframe tbody tr th {\n",
       "        vertical-align: top;\n",
       "    }\n",
       "\n",
       "    .dataframe thead th {\n",
       "        text-align: right;\n",
       "    }\n",
       "</style>\n",
       "<table border=\"1\" class=\"dataframe\">\n",
       "  <thead>\n",
       "    <tr style=\"text-align: right;\">\n",
       "      <th></th>\n",
       "      <th>age</th>\n",
       "      <th>duration</th>\n",
       "      <th>campaign</th>\n",
       "      <th>pdays</th>\n",
       "      <th>previous</th>\n",
       "      <th>emp.var.rate</th>\n",
       "      <th>cons.price.idx</th>\n",
       "      <th>cons.conf.idx</th>\n",
       "      <th>euribor3m</th>\n",
       "      <th>nr.employed</th>\n",
       "    </tr>\n",
       "  </thead>\n",
       "  <tbody>\n",
       "    <tr>\n",
       "      <th>count</th>\n",
       "      <td>41188.00000</td>\n",
       "      <td>41188.000000</td>\n",
       "      <td>41188.000000</td>\n",
       "      <td>41188.000000</td>\n",
       "      <td>41188.000000</td>\n",
       "      <td>41188.000000</td>\n",
       "      <td>41188.000000</td>\n",
       "      <td>41188.000000</td>\n",
       "      <td>41188.000000</td>\n",
       "      <td>41188.000000</td>\n",
       "    </tr>\n",
       "    <tr>\n",
       "      <th>mean</th>\n",
       "      <td>40.02406</td>\n",
       "      <td>258.285010</td>\n",
       "      <td>2.567593</td>\n",
       "      <td>962.475454</td>\n",
       "      <td>0.172963</td>\n",
       "      <td>0.081886</td>\n",
       "      <td>93.575664</td>\n",
       "      <td>-40.502600</td>\n",
       "      <td>3.621291</td>\n",
       "      <td>5167.035911</td>\n",
       "    </tr>\n",
       "    <tr>\n",
       "      <th>std</th>\n",
       "      <td>10.42125</td>\n",
       "      <td>259.279249</td>\n",
       "      <td>2.770014</td>\n",
       "      <td>186.910907</td>\n",
       "      <td>0.494901</td>\n",
       "      <td>1.570960</td>\n",
       "      <td>0.578840</td>\n",
       "      <td>4.628198</td>\n",
       "      <td>1.734447</td>\n",
       "      <td>72.251528</td>\n",
       "    </tr>\n",
       "    <tr>\n",
       "      <th>min</th>\n",
       "      <td>17.00000</td>\n",
       "      <td>0.000000</td>\n",
       "      <td>1.000000</td>\n",
       "      <td>0.000000</td>\n",
       "      <td>0.000000</td>\n",
       "      <td>-3.400000</td>\n",
       "      <td>92.201000</td>\n",
       "      <td>-50.800000</td>\n",
       "      <td>0.634000</td>\n",
       "      <td>4963.600000</td>\n",
       "    </tr>\n",
       "    <tr>\n",
       "      <th>25%</th>\n",
       "      <td>32.00000</td>\n",
       "      <td>102.000000</td>\n",
       "      <td>1.000000</td>\n",
       "      <td>999.000000</td>\n",
       "      <td>0.000000</td>\n",
       "      <td>-1.800000</td>\n",
       "      <td>93.075000</td>\n",
       "      <td>-42.700000</td>\n",
       "      <td>1.344000</td>\n",
       "      <td>5099.100000</td>\n",
       "    </tr>\n",
       "    <tr>\n",
       "      <th>50%</th>\n",
       "      <td>38.00000</td>\n",
       "      <td>180.000000</td>\n",
       "      <td>2.000000</td>\n",
       "      <td>999.000000</td>\n",
       "      <td>0.000000</td>\n",
       "      <td>1.100000</td>\n",
       "      <td>93.749000</td>\n",
       "      <td>-41.800000</td>\n",
       "      <td>4.857000</td>\n",
       "      <td>5191.000000</td>\n",
       "    </tr>\n",
       "    <tr>\n",
       "      <th>75%</th>\n",
       "      <td>47.00000</td>\n",
       "      <td>319.000000</td>\n",
       "      <td>3.000000</td>\n",
       "      <td>999.000000</td>\n",
       "      <td>0.000000</td>\n",
       "      <td>1.400000</td>\n",
       "      <td>93.994000</td>\n",
       "      <td>-36.400000</td>\n",
       "      <td>4.961000</td>\n",
       "      <td>5228.100000</td>\n",
       "    </tr>\n",
       "    <tr>\n",
       "      <th>max</th>\n",
       "      <td>98.00000</td>\n",
       "      <td>4918.000000</td>\n",
       "      <td>56.000000</td>\n",
       "      <td>999.000000</td>\n",
       "      <td>7.000000</td>\n",
       "      <td>1.400000</td>\n",
       "      <td>94.767000</td>\n",
       "      <td>-26.900000</td>\n",
       "      <td>5.045000</td>\n",
       "      <td>5228.100000</td>\n",
       "    </tr>\n",
       "  </tbody>\n",
       "</table>\n",
       "</div>"
      ],
      "text/plain": [
       "               age      duration      campaign         pdays      previous  \\\n",
       "count  41188.00000  41188.000000  41188.000000  41188.000000  41188.000000   \n",
       "mean      40.02406    258.285010      2.567593    962.475454      0.172963   \n",
       "std       10.42125    259.279249      2.770014    186.910907      0.494901   \n",
       "min       17.00000      0.000000      1.000000      0.000000      0.000000   \n",
       "25%       32.00000    102.000000      1.000000    999.000000      0.000000   \n",
       "50%       38.00000    180.000000      2.000000    999.000000      0.000000   \n",
       "75%       47.00000    319.000000      3.000000    999.000000      0.000000   \n",
       "max       98.00000   4918.000000     56.000000    999.000000      7.000000   \n",
       "\n",
       "       emp.var.rate  cons.price.idx  cons.conf.idx     euribor3m   nr.employed  \n",
       "count  41188.000000    41188.000000   41188.000000  41188.000000  41188.000000  \n",
       "mean       0.081886       93.575664     -40.502600      3.621291   5167.035911  \n",
       "std        1.570960        0.578840       4.628198      1.734447     72.251528  \n",
       "min       -3.400000       92.201000     -50.800000      0.634000   4963.600000  \n",
       "25%       -1.800000       93.075000     -42.700000      1.344000   5099.100000  \n",
       "50%        1.100000       93.749000     -41.800000      4.857000   5191.000000  \n",
       "75%        1.400000       93.994000     -36.400000      4.961000   5228.100000  \n",
       "max        1.400000       94.767000     -26.900000      5.045000   5228.100000  "
      ]
     },
     "execution_count": 116,
     "metadata": {},
     "output_type": "execute_result"
    }
   ],
   "source": [
    "df.describe()"
   ]
  },
  {
   "cell_type": "code",
   "execution_count": 117,
   "metadata": {},
   "outputs": [
    {
     "data": {
      "text/plain": [
       "age\n",
       "31    1947\n",
       "32    1846\n",
       "33    1833\n",
       "36    1780\n",
       "35    1759\n",
       "      ... \n",
       "89       2\n",
       "91       2\n",
       "94       1\n",
       "87       1\n",
       "95       1\n",
       "Name: count, Length: 78, dtype: int64"
      ]
     },
     "execution_count": 117,
     "metadata": {},
     "output_type": "execute_result"
    }
   ],
   "source": [
    "df['age'].value_counts()"
   ]
  },
  {
   "cell_type": "code",
   "execution_count": 118,
   "metadata": {},
   "outputs": [
    {
     "data": {
      "text/plain": [
       "<Axes: xlabel='y', ylabel='age'>"
      ]
     },
     "execution_count": 118,
     "metadata": {},
     "output_type": "execute_result"
    },
    {
     "data": {
      "image/png": "[encoded data removed]",
      "text/plain": [
       "<Figure size 640x480 with 1 Axes>"
      ]
     },
     "metadata": {},
     "output_type": "display_data"
    }
   ],
   "source": [
    "sns.boxplot(x='y', y='age', data=df)"
   ]
  },
  {
   "cell_type": "code",
   "execution_count": 119,
   "metadata": {},
   "outputs": [
    {
     "data": {
      "text/plain": [
       "<Axes: xlabel='age', ylabel='Count'>"
      ]
     },
     "execution_count": 119,
     "metadata": {},
     "output_type": "execute_result"
    },
    {
     "data": {
      "image/png": "[encoded data removed]",
      "text/plain": [
       "<Figure size 640x480 with 1 Axes>"
      ]
     },
     "metadata": {},
     "output_type": "display_data"
    }
   ],
   "source": [
    "sns.histplot(df['age'], bins=30, kde=True)"
   ]
  },
  {
   "cell_type": "code",
   "execution_count": 120,
   "metadata": {},
   "outputs": [
    {
     "data": {
      "text/plain": [
       "contact\n",
       "cellular     26144\n",
       "telephone    15044\n",
       "Name: count, dtype: int64"
      ]
     },
     "execution_count": 120,
     "metadata": {},
     "output_type": "execute_result"
    }
   ],
   "source": [
    "df['contact'].value_counts()"
   ]
  },
  {
   "cell_type": "code",
   "execution_count": 121,
   "metadata": {},
   "outputs": [
    {
     "name": "stdout",
     "output_type": "stream",
     "text": [
      "age: 78 unique values\n",
      "job: 12 unique values\n",
      "marital: 4 unique values\n",
      "education: 8 unique values\n",
      "default: 3 unique values\n",
      "housing: 3 unique values\n",
      "loan: 3 unique values\n",
      "contact: 2 unique values\n",
      "month: 10 unique values\n",
      "day_of_week: 5 unique values\n",
      "duration: 1544 unique values\n",
      "campaign: 42 unique values\n",
      "pdays: 27 unique values\n",
      "previous: 8 unique values\n",
      "poutcome: 3 unique values\n",
      "emp.var.rate: 10 unique values\n",
      "cons.price.idx: 26 unique values\n",
      "cons.conf.idx: 26 unique values\n",
      "euribor3m: 316 unique values\n",
      "nr.employed: 11 unique values\n",
      "y: 2 unique values\n"
     ]
    }
   ],
   "source": [
    "for col in df.columns:\n",
    "    print(f\"{col}: {df[col].nunique()} unique values\")"
   ]
  },
  {
   "cell_type": "code",
   "execution_count": 90,
   "metadata": {
    "scrolled": true
   },
   "outputs": [
    {
     "name": "stdout",
     "output_type": "stream",
     "text": [
      "\n",
      "job value counts:\n",
      "job\n",
      "admin.           10422\n",
      "blue-collar       9254\n",
      "technician        6743\n",
      "services          3969\n",
      "management        2924\n",
      "retired           1720\n",
      "entrepreneur      1456\n",
      "self-employed     1421\n",
      "housemaid         1060\n",
      "unemployed        1014\n",
      "student            875\n",
      "unknown            330\n",
      "Name: count, dtype: int64\n",
      "\n",
      "marital value counts:\n",
      "marital\n",
      "married     24928\n",
      "single      11568\n",
      "divorced     4612\n",
      "unknown        80\n",
      "Name: count, dtype: int64\n",
      "\n",
      "education value counts:\n",
      "education\n",
      "university.degree      12168\n",
      "high.school             9515\n",
      "basic.9y                6045\n",
      "professional.course     5243\n",
      "basic.4y                4176\n",
      "basic.6y                2292\n",
      "unknown                 1731\n",
      "illiterate                18\n",
      "Name: count, dtype: int64\n",
      "\n",
      "housing value counts:\n",
      "housing\n",
      "yes        21576\n",
      "no         18622\n",
      "unknown      990\n",
      "Name: count, dtype: int64\n",
      "\n",
      "loan value counts:\n",
      "loan\n",
      "no         33950\n",
      "yes         6248\n",
      "unknown      990\n",
      "Name: count, dtype: int64\n",
      "\n",
      "contact value counts:\n",
      "contact\n",
      "cellular     26144\n",
      "telephone    15044\n",
      "Name: count, dtype: int64\n",
      "\n",
      "month value counts:\n",
      "month\n",
      "may    13769\n",
      "jul     7174\n",
      "aug     6178\n",
      "jun     5318\n",
      "nov     4101\n",
      "apr     2632\n",
      "oct      718\n",
      "sep      570\n",
      "mar      546\n",
      "dec      182\n",
      "Name: count, dtype: int64\n",
      "\n",
      "day_of_week value counts:\n",
      "day_of_week\n",
      "thu    8623\n",
      "mon    8514\n",
      "wed    8134\n",
      "tue    8090\n",
      "fri    7827\n",
      "Name: count, dtype: int64\n",
      "\n",
      "y value counts:\n",
      "y\n",
      "no     36548\n",
      "yes     4640\n",
      "Name: count, dtype: int64\n"
     ]
    }
   ],
   "source": [
    "for col in df.select_dtypes(include='object').columns:\n",
    "    print(f\"\\n{col} value counts:\")\n",
    "    print(df[col].value_counts())"
   ]
  },
  {
   "cell_type": "code",
   "execution_count": 123,
   "metadata": {},
   "outputs": [
    {
     "data": {
      "text/plain": [
       "age               0\n",
       "job               0\n",
       "marital           0\n",
       "education         0\n",
       "default           0\n",
       "housing           0\n",
       "loan              0\n",
       "contact           0\n",
       "month             0\n",
       "day_of_week       0\n",
       "duration          0\n",
       "campaign          0\n",
       "pdays             0\n",
       "previous          0\n",
       "poutcome          0\n",
       "emp.var.rate      0\n",
       "cons.price.idx    0\n",
       "cons.conf.idx     0\n",
       "euribor3m         0\n",
       "nr.employed       0\n",
       "y                 0\n",
       "dtype: int64"
      ]
     },
     "execution_count": 123,
     "metadata": {},
     "output_type": "execute_result"
    }
   ],
   "source": [
    "df.isnull().sum()\n"
   ]
  },
  {
   "cell_type": "markdown",
   "metadata": {},
   "source": [
    "### Problem 4: Understanding the Task\n",
    "\n",
    "After examining the description and data, your goal now is to clearly state the *Business Objective* of the task.  State the objective below."
   ]
  },
  {
   "cell_type": "markdown",
   "metadata": {},
   "source": [
    "The dataset comes from a Portuguese bank's direct marketing campaigns, where human agents called potential clients to convince them to subscribe to a long-term deposit (a type of savings account with fixed interest).\n",
    "\n",
    "#### Why it matters ####\n",
    "- Calling customers costs time and money (agents, phone usage, etc.)\n",
    "\n",
    "- Only a small percentage of people actually subscribe (~11%)\n",
    "\n",
    "- The bank wants to reduce the number of failed calls and focus efforts on people who are more likely to say yes"
   ]
  },
  {
   "cell_type": "markdown",
   "metadata": {},
   "source": [
    "#### Business Objective ####"
   ]
  },
  {
   "cell_type": "markdown",
   "metadata": {},
   "source": [
    "The objective is to build a predictive model that helps the bank identify which customers are most likely to subscribe to a term deposit, so the marketing team can target those customers more efficiently and reduce wasted resources on unlikely leads."
   ]
  },
  {
   "cell_type": "code",
   "execution_count": 128,
   "metadata": {},
   "outputs": [
    {
     "name": "stdout",
     "output_type": "stream",
     "text": [
      "<class 'pandas.core.frame.DataFrame'>\n",
      "RangeIndex: 41188 entries, 0 to 41187\n",
      "Data columns (total 21 columns):\n",
      " #   Column          Non-Null Count  Dtype  \n",
      "---  ------          --------------  -----  \n",
      " 0   age             41188 non-null  int64  \n",
      " 1   job             41188 non-null  object \n",
      " 2   marital         41188 non-null  object \n",
      " 3   education       41188 non-null  object \n",
      " 4   default         41188 non-null  object \n",
      " 5   housing         41188 non-null  object \n",
      " 6   loan            41188 non-null  object \n",
      " 7   contact         41188 non-null  object \n",
      " 8   month           41188 non-null  object \n",
      " 9   day_of_week     41188 non-null  object \n",
      " 10  duration        41188 non-null  int64  \n",
      " 11  campaign        41188 non-null  int64  \n",
      " 12  pdays           41188 non-null  int64  \n",
      " 13  previous        41188 non-null  int64  \n",
      " 14  poutcome        41188 non-null  object \n",
      " 15  emp.var.rate    41188 non-null  float64\n",
      " 16  cons.price.idx  41188 non-null  float64\n",
      " 17  cons.conf.idx   41188 non-null  float64\n",
      " 18  euribor3m       41188 non-null  float64\n",
      " 19  nr.employed     41188 non-null  float64\n",
      " 20  y               41188 non-null  object \n",
      "dtypes: float64(5), int64(5), object(11)\n",
      "memory usage: 6.6+ MB\n"
     ]
    }
   ],
   "source": [
    "df.info()"
   ]
  },
  {
   "cell_type": "code",
   "execution_count": null,
   "metadata": {},
   "outputs": [],
   "source": []
  },
  {
   "cell_type": "code",
   "execution_count": null,
   "metadata": {},
   "outputs": [],
   "source": []
  },
  {
   "cell_type": "code",
   "execution_count": null,
   "metadata": {},
   "outputs": [],
   "source": []
  },
  {
   "cell_type": "code",
   "execution_count": null,
   "metadata": {},
   "outputs": [],
   "source": []
  },
  {
   "cell_type": "code",
   "execution_count": null,
   "metadata": {},
   "outputs": [],
   "source": []
  },
  {
   "cell_type": "markdown",
   "metadata": {},
   "source": [
    "### Problem 5: Engineering Features\n",
    "\n",
    "Now that you understand your business objective, we will build a basic model to get started.  Before we can do this, we must work to encode the data.  Using just the bank information features, prepare the features and target column for modeling with appropriate encoding and transformations."
   ]
  },
  {
   "cell_type": "markdown",
   "metadata": {},
   "source": [
    "#### Drop Columns ####"
   ]
  },
  {
   "cell_type": "code",
   "execution_count": 17,
   "metadata": {},
   "outputs": [],
   "source": [
    "df.drop(columns=['duration','default','campaign','pdays','previous','poutcome','emp.var.rate','cons.price.idx','cons.conf.idx','euribor3m','nr.employed'],axis=1,inplace=True)"
   ]
  },
  {
   "cell_type": "code",
   "execution_count": 10,
   "metadata": {},
   "outputs": [
    {
     "name": "stdout",
     "output_type": "stream",
     "text": [
      "<class 'pandas.core.frame.DataFrame'>\n",
      "RangeIndex: 41188 entries, 0 to 41187\n",
      "Data columns (total 10 columns):\n",
      " #   Column       Non-Null Count  Dtype \n",
      "---  ------       --------------  ----- \n",
      " 0   age          41188 non-null  int64 \n",
      " 1   job          41188 non-null  object\n",
      " 2   marital      41188 non-null  object\n",
      " 3   education    41188 non-null  object\n",
      " 4   housing      41188 non-null  object\n",
      " 5   loan         41188 non-null  object\n",
      " 6   contact      41188 non-null  object\n",
      " 7   month        41188 non-null  object\n",
      " 8   day_of_week  41188 non-null  object\n",
      " 9   y            41188 non-null  object\n",
      "dtypes: int64(1), object(9)\n",
      "memory usage: 3.1+ MB\n"
     ]
    }
   ],
   "source": [
    "#Drop duration of call\n",
    "# df = df.drop(columns=['duration'])\n",
    "df.info()"
   ]
  },
  {
   "cell_type": "markdown",
   "metadata": {},
   "source": [
    "#### Convert target to binary ####"
   ]
  },
  {
   "cell_type": "code",
   "execution_count": 96,
   "metadata": {},
   "outputs": [],
   "source": [
    "# df['y'] = df['y'].map({'no': 0, 'yes': 1})"
   ]
  },
  {
   "cell_type": "markdown",
   "metadata": {},
   "source": [
    "#### Categorial and Numeric Features ####"
   ]
  },
  {
   "cell_type": "code",
   "execution_count": 12,
   "metadata": {},
   "outputs": [],
   "source": [
    "# df['age_group'] = pd.cut(\n",
    "#     df['age'],\n",
    "#     bins=[17, 25, 35, 50, 65, 100],\n",
    "#     labels=['<25', '25–35', '35–50', '50–65', '65+']\n",
    "# )\n",
    "\n",
    "# categorical_cols = [\n",
    "#     'job', 'marital', 'education', 'default', 'housing', 'loan',\n",
    "#     'contact', 'month', 'day_of_week', 'poutcome'\n",
    "# ]\n",
    "\n",
    "# categorical_cols = [\n",
    "#     'job', 'marital', 'education', 'default', 'housing', 'loan',\n",
    "#     'contact', 'month', 'day_of_week', 'age_group'\n",
    "# ]\n",
    "\n",
    "# numeric_cols = [\n",
    "#     'age', 'campaign', 'pdays', 'previous',\n",
    "#     'emp.var.rate', 'cons.price.idx', 'cons.conf.idx',\n",
    "#     'euribor3m', 'nr.employed'\n",
    "# ]\n",
    "\n",
    "\n",
    "# numeric_cols = []\n",
    "\n",
    "# preprocessor = make_column_transformer(\n",
    "#     (ce.JamesSteinEncoder(), categorical_cols),\n",
    "#     # (StandardScaler(), numeric_cols),\n",
    "#     remainder='drop'\n",
    "# )\n"
   ]
  },
  {
   "cell_type": "markdown",
   "metadata": {},
   "source": [
    "### Problem 6: Train/Test Split\n",
    "\n",
    "With your data prepared, split it into a train and test set."
   ]
  },
  {
   "cell_type": "code",
   "execution_count": 33,
   "metadata": {},
   "outputs": [],
   "source": [
    "# #Target feature\n",
    "# X = df.drop('y', axis=1)\n",
    "# y = df['y']\n",
    "\n",
    "# #Train / test split\n",
    "# X_train, X_test, y_train, y_test = train_test_split(X, y, stratify=y, test_size=0.3, random_state=42)\n",
    "\n",
    "# bins = [17, 25, 35, 50, 65, 100]\n",
    "# labels = ['<25', '25–35', '35–50', '50–65', '65+']\n",
    "\n",
    "# # Apply binning separately on train and test\n",
    "# X_train['age_group'] = pd.cut(X_train['age'], bins=bins, labels=labels)\n",
    "# X_test['age_group'] = pd.cut(X_test['age'], bins=bins, labels=labels)\n",
    "\n",
    "# # Drop original age if no longer needed\n",
    "# X_train.drop(columns='age', inplace=True)\n",
    "# X_test.drop(columns='age', inplace=True)\n",
    "\n",
    "# preprocessor = make_column_transformer(\n",
    "#     (OneHotEncoder(handle_unknown='ignore'), categorical_cols),\n",
    "#     # (StandardScaler(), numeric_cols),\n",
    "#     remainder='drop'\n",
    "# )\n",
    "\n",
    "# X_train_processed = preprocessor.fit_transform(X_train, y_train)\n",
    "# X_test_processed = preprocessor.transform(X_test)\n",
    "\n",
    "# X_train_processed = pd.DataFrame(X_train_processed, columns=categorical_cols)\n",
    "# X_test_processed = pd.DataFrame(X_test_processed, columns=categorical_cols)\n",
    "\n",
    "# # 2. Apply SMOTE on the processed (numeric-only) data\n",
    "# smote = SMOTE(random_state=42)\n",
    "# X_train_balanced, y_train_balanced = smote.fit_resample(X_train_processed, y_train)"
   ]
  },
  {
   "cell_type": "code",
   "execution_count": 31,
   "metadata": {},
   "outputs": [],
   "source": [
    "\n",
    "from sklearn.compose import ColumnTransformer\n",
    "from sklearn.preprocessing import OneHotEncoder\n",
    "from imblearn.over_sampling import SMOTE\n",
    "from scipy.sparse import issparse\n",
    "\n",
    "# Setup your dataset\n",
    "X = df.drop('y', axis=1)\n",
    "y = df['y'].map({'yes': 1, 'no': 0})\n",
    "\n",
    "# Split\n",
    "X_train, X_test, y_train, y_test = train_test_split(X, y, stratify=y, test_size=0.3, random_state=42)\n",
    "\n",
    "# Age binning\n",
    "bins = [17, 25, 35, 50, 65, 100]\n",
    "labels = ['<25', '25–35', '35–50', '50–65', '65+']\n",
    "X_train['age_group'] = pd.cut(X_train['age'], bins=bins, labels=labels, include_lowest=True)\n",
    "X_test['age_group'] = pd.cut(X_test['age'], bins=bins, labels=labels, include_lowest=True)\n",
    "\n",
    "# Drop raw age\n",
    "X_train.drop(columns='age', inplace=True)\n",
    "X_test.drop(columns='age', inplace=True)\n",
    "\n",
    "# Columns for each encoder\n",
    "james_stein_cols = ['job', 'education', 'month']\n",
    "onehot_cols = ['marital', 'housing', 'loan', 'contact', 'day_of_week', 'age_group']\n",
    "\n",
    "# Preprocessor\n",
    "preprocessor = ColumnTransformer(\n",
    "    transformers=[\n",
    "        ('jstein', ce.JamesSteinEncoder(cols=james_stein_cols), james_stein_cols),\n",
    "        ('onehot', OneHotEncoder(handle_unknown='ignore',), onehot_cols)\n",
    "    ],\n",
    "    remainder='drop'\n",
    ")\n",
    "\n",
    "# Fit with y_train passed in (for JamesSteinEncoder)\n",
    "X_train_encoded = preprocessor.fit_transform(X_train, y_train)\n",
    "X_test_encoded = preprocessor.transform(X_test)\n",
    "\n",
    "# 👉 Extract proper feature names from both encoders\n",
    "jstein_feature_names = james_stein_cols  # James-Stein outputs same column names\n",
    "onehot_feature_names = preprocessor.named_transformers_['onehot'].get_feature_names_out(onehot_cols)\n",
    "all_feature_names = jstein_feature_names + list(onehot_feature_names)\n",
    "\n",
    "# 👉 Convert to DataFrame with correct column names\n",
    "if issparse(X_train_encoded):\n",
    "    X_train_processed = pd.DataFrame(X_train_encoded.toarray(), columns=all_feature_names)\n",
    "    X_test_processed = pd.DataFrame(X_test_encoded.toarray(), columns=all_feature_names)\n",
    "else:\n",
    "    X_train_processed = pd.DataFrame(X_train_encoded, columns=all_feature_names)\n",
    "    X_test_processed = pd.DataFrame(X_test_encoded, columns=all_feature_names)\n",
    "\n",
    "# SMOTE\n",
    "smote = SMOTE(random_state=42)\n",
    "X_train_balanced, y_train_balanced = smote.fit_resample(X_train_processed, y_train)\n"
   ]
  },
  {
   "cell_type": "code",
   "execution_count": 164,
   "metadata": {},
   "outputs": [
    {
     "name": "stdout",
     "output_type": "stream",
     "text": [
      "Class distribution after SMOTE: Counter({0: 25583, 1: 25583})\n"
     ]
    }
   ],
   "source": [
    "print(\"Class distribution after SMOTE:\", Counter(y_train_balanced))"
   ]
  },
  {
   "cell_type": "code",
   "execution_count": 18,
   "metadata": {},
   "outputs": [
    {
     "data": {
      "text/plain": [
       "age_group\n",
       "35–50    12223\n",
       "25–35    10415\n",
       "50–65     4590\n",
       "<25       1176\n",
       "65+        427\n",
       "Name: count, dtype: int64"
      ]
     },
     "execution_count": 18,
     "metadata": {},
     "output_type": "execute_result"
    }
   ],
   "source": [
    "X_train['age_group'].value_counts()"
   ]
  },
  {
   "cell_type": "markdown",
   "metadata": {},
   "source": [
    "### Problem 7: A Baseline Model\n",
    "\n",
    "Before we build our first model, we want to establish a baseline.  What is the baseline performance that our classifier should aim to beat?"
   ]
  },
  {
   "cell_type": "code",
   "execution_count": 20,
   "metadata": {},
   "outputs": [],
   "source": [
    "baseline = df['y'].value_counts(normalize=True).max()"
   ]
  },
  {
   "cell_type": "code",
   "execution_count": 172,
   "metadata": {},
   "outputs": [
    {
     "data": {
      "text/plain": [
       "0.8873458288821987"
      ]
     },
     "execution_count": 172,
     "metadata": {},
     "output_type": "execute_result"
    }
   ],
   "source": [
    "baseline"
   ]
  },
  {
   "cell_type": "code",
   "execution_count": null,
   "metadata": {},
   "outputs": [],
   "source": []
  },
  {
   "cell_type": "markdown",
   "metadata": {},
   "source": [
    "### Problem 8: A Simple Model\n",
    "\n",
    "Use Logistic Regression to build a basic model on your data.  "
   ]
  },
  {
   "cell_type": "code",
   "execution_count": 33,
   "metadata": {},
   "outputs": [
    {
     "data": {
      "text/html": [
       "<div>\n",
       "<style scoped>\n",
       "    .dataframe tbody tr th:only-of-type {\n",
       "        vertical-align: middle;\n",
       "    }\n",
       "\n",
       "    .dataframe tbody tr th {\n",
       "        vertical-align: top;\n",
       "    }\n",
       "\n",
       "    .dataframe thead th {\n",
       "        text-align: right;\n",
       "    }\n",
       "</style>\n",
       "<table border=\"1\" class=\"dataframe\">\n",
       "  <thead>\n",
       "    <tr style=\"text-align: right;\">\n",
       "      <th></th>\n",
       "      <th>Model</th>\n",
       "      <th>Train Accuracy</th>\n",
       "      <th>Test Accuracy</th>\n",
       "      <th>Precision</th>\n",
       "      <th>Recall</th>\n",
       "      <th>F1 Score</th>\n",
       "      <th>ROC AUC Train</th>\n",
       "      <th>ROC AUC Test</th>\n",
       "      <th>Training Time (s)</th>\n",
       "    </tr>\n",
       "  </thead>\n",
       "  <tbody>\n",
       "    <tr>\n",
       "      <th>0</th>\n",
       "      <td>Logistic Regression (SMOTE)</td>\n",
       "      <td>0.664042</td>\n",
       "      <td>0.664482</td>\n",
       "      <td>0.196161</td>\n",
       "      <td>0.638649</td>\n",
       "      <td>0.300135</td>\n",
       "      <td>0.723218</td>\n",
       "      <td>0.729221</td>\n",
       "      <td>0.2271</td>\n",
       "    </tr>\n",
       "  </tbody>\n",
       "</table>\n",
       "</div>"
      ],
      "text/plain": [
       "                         Model  Train Accuracy  Test Accuracy  Precision  \\\n",
       "0  Logistic Regression (SMOTE)        0.664042       0.664482   0.196161   \n",
       "\n",
       "     Recall  F1 Score  ROC AUC Train  ROC AUC Test  Training Time (s)  \n",
       "0  0.638649  0.300135       0.723218      0.729221             0.2271  "
      ]
     },
     "execution_count": 33,
     "metadata": {},
     "output_type": "execute_result"
    }
   ],
   "source": [
    "# Train logistic regression on SMOTE-balanced, preprocessed data\n",
    "logreg = LogisticRegression(max_iter=1000, random_state=42)\n",
    "\n",
    "# Start timer\n",
    "start_time = time.time()\n",
    "\n",
    "# Fit the model\n",
    "logreg.fit(X_train_balanced, y_train_balanced)\n",
    "\n",
    "# End timer\n",
    "training_time = time.time() - start_time\n",
    "\n",
    "# Predict on original preprocessed X_train and X_test\n",
    "y_train_pred = logreg.predict(X_train_processed)\n",
    "y_pred = logreg.predict(X_test_processed)\n",
    "y_train_proba = logreg.predict_proba(X_train_processed)[:, 1]\n",
    "y_proba = logreg.predict_proba(X_test_processed)[:, 1]\n",
    "\n",
    "# Collect metrics\n",
    "logistic_metrics = {\n",
    "    \"Model\": \"Logistic Regression (SMOTE)\",\n",
    "    \"Train Accuracy\": accuracy_score(y_train, y_train_pred),\n",
    "    \"Test Accuracy\": accuracy_score(y_test, y_pred),\n",
    "    \"Precision\": precision_score(y_test, y_pred),\n",
    "    \"Recall\": recall_score(y_test, y_pred),\n",
    "    \"F1 Score\": f1_score(y_test, y_pred),\n",
    "    \"ROC AUC Train\": roc_auc_score(y_train, y_train_proba),\n",
    "    \"ROC AUC Test\": roc_auc_score(y_test, y_proba),\n",
    "    \"Training Time (s)\": round(training_time, 4)\n",
    "}\n",
    "\n",
    "# Convert to DataFrame\n",
    "logistic_metrics_df = pd.DataFrame([logistic_metrics])\n",
    "logistic_metrics_df\n"
   ]
  },
  {
   "cell_type": "code",
   "execution_count": 35,
   "metadata": {},
   "outputs": [
    {
     "data": {
      "image/png": "[encoded data removed]",
      "text/plain": [
       "<Figure size 600x400 with 2 Axes>"
      ]
     },
     "metadata": {},
     "output_type": "display_data"
    }
   ],
   "source": [
    "# Confusion matrix\n",
    "cm = confusion_matrix(y_test, y_pred)\n",
    "\n",
    "# Plot it\n",
    "plt.figure(figsize=(6,4))\n",
    "sns.heatmap(cm, annot=True, fmt='d', cmap='Blues', xticklabels=['No', 'Yes'], yticklabels=['No', 'Yes'])\n",
    "plt.xlabel('Predicted')\n",
    "plt.ylabel('Actual')\n",
    "plt.title('Confusion Matrix')\n",
    "plt.show()"
   ]
  },
  {
   "cell_type": "code",
   "execution_count": 37,
   "metadata": {},
   "outputs": [
    {
     "data": {
      "image/png": "[encoded data removed]",
      "text/plain": [
       "<Figure size 640x480 with 1 Axes>"
      ]
     },
     "metadata": {},
     "output_type": "display_data"
    }
   ],
   "source": [
    "plt.hist(y_proba, bins=20, color='skyblue')\n",
    "plt.xlabel('Predicted Probability of Subscribing')\n",
    "plt.ylabel('Number of Clients')\n",
    "plt.title('Model Prediction Confidence')\n",
    "plt.show()"
   ]
  },
  {
   "cell_type": "markdown",
   "metadata": {},
   "source": [
    "### Problem 9: Score the Model\n",
    "\n",
    "What is the accuracy of your model?"
   ]
  },
  {
   "cell_type": "code",
   "execution_count": 39,
   "metadata": {},
   "outputs": [
    {
     "data": {
      "text/html": [
       "<div>\n",
       "<style scoped>\n",
       "    .dataframe tbody tr th:only-of-type {\n",
       "        vertical-align: middle;\n",
       "    }\n",
       "\n",
       "    .dataframe tbody tr th {\n",
       "        vertical-align: top;\n",
       "    }\n",
       "\n",
       "    .dataframe thead th {\n",
       "        text-align: right;\n",
       "    }\n",
       "</style>\n",
       "<table border=\"1\" class=\"dataframe\">\n",
       "  <thead>\n",
       "    <tr style=\"text-align: right;\">\n",
       "      <th></th>\n",
       "      <th>Model</th>\n",
       "      <th>Train Accuracy</th>\n",
       "      <th>Test Accuracy</th>\n",
       "      <th>Precision</th>\n",
       "      <th>Recall</th>\n",
       "      <th>F1 Score</th>\n",
       "      <th>ROC AUC Train</th>\n",
       "      <th>ROC AUC Test</th>\n",
       "      <th>Training Time (s)</th>\n",
       "    </tr>\n",
       "  </thead>\n",
       "  <tbody>\n",
       "    <tr>\n",
       "      <th>0</th>\n",
       "      <td>Logistic Regression (SMOTE)</td>\n",
       "      <td>0.664042</td>\n",
       "      <td>0.664482</td>\n",
       "      <td>0.196161</td>\n",
       "      <td>0.638649</td>\n",
       "      <td>0.300135</td>\n",
       "      <td>0.723218</td>\n",
       "      <td>0.729221</td>\n",
       "      <td>0.2271</td>\n",
       "    </tr>\n",
       "  </tbody>\n",
       "</table>\n",
       "</div>"
      ],
      "text/plain": [
       "                         Model  Train Accuracy  Test Accuracy  Precision  \\\n",
       "0  Logistic Regression (SMOTE)        0.664042       0.664482   0.196161   \n",
       "\n",
       "     Recall  F1 Score  ROC AUC Train  ROC AUC Test  Training Time (s)  \n",
       "0  0.638649  0.300135       0.723218      0.729221             0.2271  "
      ]
     },
     "execution_count": 39,
     "metadata": {},
     "output_type": "execute_result"
    }
   ],
   "source": [
    "logistic_metrics_df"
   ]
  },
  {
   "cell_type": "markdown",
   "metadata": {},
   "source": [
    "### Problem 10: Model Comparisons\n",
    "\n",
    "Now, we aim to compare the performance of the Logistic Regression model to our KNN algorithm, Decision Tree, and SVM models.  Using the default settings for each of the models, fit and score each.  Also, be sure to compare the fit time of each of the models.  Present your findings in a `DataFrame` similar to that below:\n",
    "\n",
    "| Model | Train Time | Train Accuracy | Test Accuracy |\n",
    "| ----- | ---------- | -------------  | -----------   |\n",
    "|     |    |.     |.     |"
   ]
  },
  {
   "cell_type": "markdown",
   "metadata": {},
   "source": [
    "#### KNeighboors ####"
   ]
  },
  {
   "cell_type": "code",
   "execution_count": 41,
   "metadata": {},
   "outputs": [
    {
     "data": {
      "text/html": [
       "<div>\n",
       "<style scoped>\n",
       "    .dataframe tbody tr th:only-of-type {\n",
       "        vertical-align: middle;\n",
       "    }\n",
       "\n",
       "    .dataframe tbody tr th {\n",
       "        vertical-align: top;\n",
       "    }\n",
       "\n",
       "    .dataframe thead th {\n",
       "        text-align: right;\n",
       "    }\n",
       "</style>\n",
       "<table border=\"1\" class=\"dataframe\">\n",
       "  <thead>\n",
       "    <tr style=\"text-align: right;\">\n",
       "      <th></th>\n",
       "      <th>Model</th>\n",
       "      <th>Train Accuracy</th>\n",
       "      <th>Test Accuracy</th>\n",
       "      <th>Precision</th>\n",
       "      <th>Recall</th>\n",
       "      <th>F1 Score</th>\n",
       "      <th>ROC AUC Train</th>\n",
       "      <th>ROC AUC Test</th>\n",
       "      <th>Training Time (s)</th>\n",
       "    </tr>\n",
       "  </thead>\n",
       "  <tbody>\n",
       "    <tr>\n",
       "      <th>0</th>\n",
       "      <td>K-Nearest Neighbors (SMOTE)</td>\n",
       "      <td>0.781797</td>\n",
       "      <td>0.733188</td>\n",
       "      <td>0.212496</td>\n",
       "      <td>0.505747</td>\n",
       "      <td>0.299256</td>\n",
       "      <td>0.838649</td>\n",
       "      <td>0.672037</td>\n",
       "      <td>0.0121</td>\n",
       "    </tr>\n",
       "  </tbody>\n",
       "</table>\n",
       "</div>"
      ],
      "text/plain": [
       "                         Model  Train Accuracy  Test Accuracy  Precision  \\\n",
       "0  K-Nearest Neighbors (SMOTE)        0.781797       0.733188   0.212496   \n",
       "\n",
       "     Recall  F1 Score  ROC AUC Train  ROC AUC Test  Training Time (s)  \n",
       "0  0.505747  0.299256       0.838649      0.672037             0.0121  "
      ]
     },
     "execution_count": 41,
     "metadata": {},
     "output_type": "execute_result"
    }
   ],
   "source": [
    "# Train on balanced, preprocessed data\n",
    "knn_model = KNeighborsClassifier(n_neighbors=15)\n",
    "\n",
    "# Start timer\n",
    "start_time = time.time()\n",
    "\n",
    "# Fit the model on already processed and balanced data\n",
    "knn_model.fit(X_train_balanced, y_train_balanced)\n",
    "\n",
    "# End timer\n",
    "training_time = time.time() - start_time\n",
    "\n",
    "# Predict on preprocessed original train and test sets\n",
    "y_train_pred_knn = knn_model.predict(X_train_processed)\n",
    "y_pred_knn = knn_model.predict(X_test_processed)\n",
    "y_train_proba_knn = knn_model.predict_proba(X_train_processed)[:, 1]\n",
    "y_proba_knn = knn_model.predict_proba(X_test_processed)[:, 1]\n",
    "\n",
    "# Evaluation\n",
    "knn_metrics = {\n",
    "    \"Model\": \"K-Nearest Neighbors (SMOTE)\",\n",
    "    \"Train Accuracy\": accuracy_score(y_train, y_train_pred_knn),\n",
    "    \"Test Accuracy\": accuracy_score(y_test, y_pred_knn),\n",
    "    \"Precision\": precision_score(y_test, y_pred_knn),\n",
    "    \"Recall\": recall_score(y_test, y_pred_knn),\n",
    "    \"F1 Score\": f1_score(y_test, y_pred_knn),\n",
    "    \"ROC AUC Train\": roc_auc_score(y_train, y_train_proba_knn),\n",
    "    \"ROC AUC Test\": roc_auc_score(y_test, y_proba_knn),\n",
    "    \"Training Time (s)\": round(training_time, 4)\n",
    "}\n",
    "\n",
    "# Create DataFrame for metrics\n",
    "knn_metrics_df = pd.DataFrame([knn_metrics])\n",
    "knn_metrics_df"
   ]
  },
  {
   "cell_type": "markdown",
   "metadata": {},
   "source": [
    "#### Decision Tree ####"
   ]
  },
  {
   "cell_type": "code",
   "execution_count": 43,
   "metadata": {},
   "outputs": [
    {
     "data": {
      "text/html": [
       "<div>\n",
       "<style scoped>\n",
       "    .dataframe tbody tr th:only-of-type {\n",
       "        vertical-align: middle;\n",
       "    }\n",
       "\n",
       "    .dataframe tbody tr th {\n",
       "        vertical-align: top;\n",
       "    }\n",
       "\n",
       "    .dataframe thead th {\n",
       "        text-align: right;\n",
       "    }\n",
       "</style>\n",
       "<table border=\"1\" class=\"dataframe\">\n",
       "  <thead>\n",
       "    <tr style=\"text-align: right;\">\n",
       "      <th></th>\n",
       "      <th>Model</th>\n",
       "      <th>Train Accuracy</th>\n",
       "      <th>Test Accuracy</th>\n",
       "      <th>Precision</th>\n",
       "      <th>Recall</th>\n",
       "      <th>F1 Score</th>\n",
       "      <th>ROC AUC Train</th>\n",
       "      <th>ROC AUC Test</th>\n",
       "      <th>Training Time (s)</th>\n",
       "    </tr>\n",
       "  </thead>\n",
       "  <tbody>\n",
       "    <tr>\n",
       "      <th>0</th>\n",
       "      <td>Decision Tree (SMOTE)</td>\n",
       "      <td>0.687212</td>\n",
       "      <td>0.688517</td>\n",
       "      <td>0.193105</td>\n",
       "      <td>0.555316</td>\n",
       "      <td>0.286562</td>\n",
       "      <td>0.706073</td>\n",
       "      <td>0.717381</td>\n",
       "      <td>0.1005</td>\n",
       "    </tr>\n",
       "  </tbody>\n",
       "</table>\n",
       "</div>"
      ],
      "text/plain": [
       "                   Model  Train Accuracy  Test Accuracy  Precision    Recall  \\\n",
       "0  Decision Tree (SMOTE)        0.687212       0.688517   0.193105  0.555316   \n",
       "\n",
       "   F1 Score  ROC AUC Train  ROC AUC Test  Training Time (s)  \n",
       "0  0.286562       0.706073      0.717381             0.1005  "
      ]
     },
     "execution_count": 43,
     "metadata": {},
     "output_type": "execute_result"
    }
   ],
   "source": [
    "# Start timer\n",
    "start_time = time.time()\n",
    "\n",
    "# Build model\n",
    "tree_model = DecisionTreeClassifier(max_depth=5, random_state=42)\n",
    "\n",
    "# Fit model on balanced, preprocessed training data\n",
    "tree_model.fit(X_train_balanced, y_train_balanced)\n",
    "\n",
    "# End timer\n",
    "training_time = time.time() - start_time\n",
    "\n",
    "# Predict on original (unbalanced) preprocessed sets\n",
    "y_train_pred_tree = tree_model.predict(X_train_processed)\n",
    "y_pred_tree = tree_model.predict(X_test_processed)\n",
    "y_train_proba_tree = tree_model.predict_proba(X_train_processed)[:, 1]\n",
    "y_proba_tree = tree_model.predict_proba(X_test_processed)[:, 1]\n",
    "\n",
    "# Evaluation\n",
    "tree_metrics = {\n",
    "    \"Model\": \"Decision Tree (SMOTE)\",\n",
    "    \"Train Accuracy\": accuracy_score(y_train, y_train_pred_tree),\n",
    "    \"Test Accuracy\": accuracy_score(y_test, y_pred_tree),\n",
    "    \"Precision\": precision_score(y_test, y_pred_tree),\n",
    "    \"Recall\": recall_score(y_test, y_pred_tree),\n",
    "    \"F1 Score\": f1_score(y_test, y_pred_tree),\n",
    "    \"ROC AUC Train\": roc_auc_score(y_train, y_train_proba_tree),\n",
    "    \"ROC AUC Test\": roc_auc_score(y_test, y_proba_tree),\n",
    "    \"Training Time (s)\": round(training_time, 4)\n",
    "}\n",
    "\n",
    "# Convert to DataFrame\n",
    "tree_metrics_df = pd.DataFrame([tree_metrics])\n",
    "tree_metrics_df\n"
   ]
  },
  {
   "cell_type": "markdown",
   "metadata": {},
   "source": [
    "#### SVM ####"
   ]
  },
  {
   "cell_type": "code",
   "execution_count": 45,
   "metadata": {},
   "outputs": [
    {
     "data": {
      "text/html": [
       "<div>\n",
       "<style scoped>\n",
       "    .dataframe tbody tr th:only-of-type {\n",
       "        vertical-align: middle;\n",
       "    }\n",
       "\n",
       "    .dataframe tbody tr th {\n",
       "        vertical-align: top;\n",
       "    }\n",
       "\n",
       "    .dataframe thead th {\n",
       "        text-align: right;\n",
       "    }\n",
       "</style>\n",
       "<table border=\"1\" class=\"dataframe\">\n",
       "  <thead>\n",
       "    <tr style=\"text-align: right;\">\n",
       "      <th></th>\n",
       "      <th>Model</th>\n",
       "      <th>Train Accuracy</th>\n",
       "      <th>Test Accuracy</th>\n",
       "      <th>Precision</th>\n",
       "      <th>Recall</th>\n",
       "      <th>F1 Score</th>\n",
       "      <th>ROC AUC Train</th>\n",
       "      <th>ROC AUC Test</th>\n",
       "      <th>Training Time (s)</th>\n",
       "    </tr>\n",
       "  </thead>\n",
       "  <tbody>\n",
       "    <tr>\n",
       "      <th>0</th>\n",
       "      <td>SVM (Default + SMOTE)</td>\n",
       "      <td>0.672991</td>\n",
       "      <td>0.666748</td>\n",
       "      <td>0.190509</td>\n",
       "      <td>0.60273</td>\n",
       "      <td>0.28951</td>\n",
       "      <td>0.724516</td>\n",
       "      <td>0.698837</td>\n",
       "      <td>961.9092</td>\n",
       "    </tr>\n",
       "  </tbody>\n",
       "</table>\n",
       "</div>"
      ],
      "text/plain": [
       "                   Model  Train Accuracy  Test Accuracy  Precision   Recall  \\\n",
       "0  SVM (Default + SMOTE)        0.672991       0.666748   0.190509  0.60273   \n",
       "\n",
       "   F1 Score  ROC AUC Train  ROC AUC Test  Training Time (s)  \n",
       "0   0.28951       0.724516      0.698837           961.9092  "
      ]
     },
     "execution_count": 45,
     "metadata": {},
     "output_type": "execute_result"
    }
   ],
   "source": [
    "# Initialize SVM model\n",
    "svm_model = SVC(probability=True, random_state=42)\n",
    "\n",
    "# Start timer\n",
    "start = time.time()\n",
    "\n",
    "# Fit on balanced, preprocessed training data\n",
    "svm_model.fit(X_train_balanced, y_train_balanced)\n",
    "\n",
    "# End timer\n",
    "end = time.time()\n",
    "\n",
    "# Predict on original preprocessed data\n",
    "y_train_pred_svm = svm_model.predict(X_train_processed)\n",
    "y_pred_svm = svm_model.predict(X_test_processed)\n",
    "y_train_proba_svm = svm_model.predict_proba(X_train_processed)[:, 1]\n",
    "y_proba_svm = svm_model.predict_proba(X_test_processed)[:, 1]\n",
    "\n",
    "# Metrics\n",
    "svm_metrics = {\n",
    "    \"Model\": \"SVM (Default + SMOTE)\",\n",
    "    \"Train Accuracy\": accuracy_score(y_train, y_train_pred_svm),\n",
    "    \"Test Accuracy\": accuracy_score(y_test, y_pred_svm),\n",
    "    \"Precision\": precision_score(y_test, y_pred_svm),\n",
    "    \"Recall\": recall_score(y_test, y_pred_svm),\n",
    "    \"F1 Score\": f1_score(y_test, y_pred_svm),\n",
    "    \"ROC AUC Train\": roc_auc_score(y_train, y_train_proba_svm),\n",
    "    \"ROC AUC Test\": roc_auc_score(y_test, y_proba_svm),\n",
    "    \"Training Time (s)\": round(end - start, 4)\n",
    "}\n",
    "\n",
    "# Convert to DataFrame\n",
    "svm_metrics_df = pd.DataFrame([svm_metrics])\n",
    "svm_metrics_df"
   ]
  },
  {
   "cell_type": "code",
   "execution_count": 47,
   "metadata": {},
   "outputs": [
    {
     "data": {
      "text/html": [
       "<div>\n",
       "<style scoped>\n",
       "    .dataframe tbody tr th:only-of-type {\n",
       "        vertical-align: middle;\n",
       "    }\n",
       "\n",
       "    .dataframe tbody tr th {\n",
       "        vertical-align: top;\n",
       "    }\n",
       "\n",
       "    .dataframe thead th {\n",
       "        text-align: right;\n",
       "    }\n",
       "</style>\n",
       "<table border=\"1\" class=\"dataframe\">\n",
       "  <thead>\n",
       "    <tr style=\"text-align: right;\">\n",
       "      <th></th>\n",
       "      <th>Model</th>\n",
       "      <th>Train Accuracy</th>\n",
       "      <th>Test Accuracy</th>\n",
       "      <th>Precision</th>\n",
       "      <th>Recall</th>\n",
       "      <th>F1 Score</th>\n",
       "      <th>ROC AUC Train</th>\n",
       "      <th>ROC AUC Test</th>\n",
       "      <th>Training Time (s)</th>\n",
       "    </tr>\n",
       "  </thead>\n",
       "  <tbody>\n",
       "    <tr>\n",
       "      <th>0</th>\n",
       "      <td>Logistic Regression (SMOTE)</td>\n",
       "      <td>0.664042</td>\n",
       "      <td>0.664482</td>\n",
       "      <td>0.196161</td>\n",
       "      <td>0.638649</td>\n",
       "      <td>0.300135</td>\n",
       "      <td>0.723218</td>\n",
       "      <td>0.729221</td>\n",
       "      <td>0.2271</td>\n",
       "    </tr>\n",
       "    <tr>\n",
       "      <th>1</th>\n",
       "      <td>K-Nearest Neighbors (SMOTE)</td>\n",
       "      <td>0.781797</td>\n",
       "      <td>0.733188</td>\n",
       "      <td>0.212496</td>\n",
       "      <td>0.505747</td>\n",
       "      <td>0.299256</td>\n",
       "      <td>0.838649</td>\n",
       "      <td>0.672037</td>\n",
       "      <td>0.0121</td>\n",
       "    </tr>\n",
       "    <tr>\n",
       "      <th>2</th>\n",
       "      <td>Decision Tree (SMOTE)</td>\n",
       "      <td>0.687212</td>\n",
       "      <td>0.688517</td>\n",
       "      <td>0.193105</td>\n",
       "      <td>0.555316</td>\n",
       "      <td>0.286562</td>\n",
       "      <td>0.706073</td>\n",
       "      <td>0.717381</td>\n",
       "      <td>0.1005</td>\n",
       "    </tr>\n",
       "    <tr>\n",
       "      <th>3</th>\n",
       "      <td>SVM (Default + SMOTE)</td>\n",
       "      <td>0.672991</td>\n",
       "      <td>0.666748</td>\n",
       "      <td>0.190509</td>\n",
       "      <td>0.602730</td>\n",
       "      <td>0.289510</td>\n",
       "      <td>0.724516</td>\n",
       "      <td>0.698837</td>\n",
       "      <td>961.9092</td>\n",
       "    </tr>\n",
       "  </tbody>\n",
       "</table>\n",
       "</div>"
      ],
      "text/plain": [
       "                         Model  Train Accuracy  Test Accuracy  Precision  \\\n",
       "0  Logistic Regression (SMOTE)        0.664042       0.664482   0.196161   \n",
       "1  K-Nearest Neighbors (SMOTE)        0.781797       0.733188   0.212496   \n",
       "2        Decision Tree (SMOTE)        0.687212       0.688517   0.193105   \n",
       "3        SVM (Default + SMOTE)        0.672991       0.666748   0.190509   \n",
       "\n",
       "     Recall  F1 Score  ROC AUC Train  ROC AUC Test  Training Time (s)  \n",
       "0  0.638649  0.300135       0.723218      0.729221             0.2271  \n",
       "1  0.505747  0.299256       0.838649      0.672037             0.0121  \n",
       "2  0.555316  0.286562       0.706073      0.717381             0.1005  \n",
       "3  0.602730  0.289510       0.724516      0.698837           961.9092  "
      ]
     },
     "execution_count": 47,
     "metadata": {},
     "output_type": "execute_result"
    }
   ],
   "source": [
    "comparison_df = pd.concat([\n",
    "    logistic_metrics_df,\n",
    "    knn_metrics_df,\n",
    "    tree_metrics_df,\n",
    "    svm_metrics_df\n",
    "], ignore_index=True)\n",
    "\n",
    "comparison_df"
   ]
  },
  {
   "cell_type": "markdown",
   "metadata": {},
   "source": [
    "### Problem 11: Improving the Model\n",
    "\n",
    "Now that we have some basic models on the board, we want to try to improve these.  Below, we list a few things to explore in this pursuit.\n",
    "\n",
    "- More feature engineering and exploration.  For example, should we keep the gender feature?  Why or why not?\n",
    "- Hyperparameter tuning and grid search.  All of our models have additional hyperparameters to tune and explore.  For example the number of neighbors in KNN or the maximum depth of a Decision Tree.  \n",
    "- Adjust your performance metric"
   ]
  },
  {
   "cell_type": "markdown",
   "metadata": {},
   "source": [
    "#### Grid Search for Logistic Regression ####"
   ]
  },
  {
   "cell_type": "code",
   "execution_count": 57,
   "metadata": {},
   "outputs": [],
   "source": [
    "def evaluate_with_threshold(model_name, y_true, y_pred_proba, threshold, y_train, y_train_pred, y_train_proba, training_time):\n",
    "    \"\"\"\n",
    "    Evaluates classification metrics at a custom threshold.\n",
    "\n",
    "    Parameters:\n",
    "        model_name (str): Name of the model.\n",
    "        y_true (array): True labels for test set.\n",
    "        y_pred_proba (array): Predicted probabilities for test set.\n",
    "        threshold (float): Classification threshold.\n",
    "        y_train (array): True labels for training set.\n",
    "        y_train_pred (array): Predicted labels for training set.\n",
    "        y_train_proba (array): Predicted probabilities for training set.\n",
    "        training_time (float): Training time in seconds.\n",
    "\n",
    "    Returns:\n",
    "        dict: Dictionary of evaluation metrics.\n",
    "    \"\"\"\n",
    "    y_pred_thresh = (y_pred_proba >= threshold).astype(int)\n",
    "\n",
    "    return {\n",
    "        \"Model\": f\"{model_name} (threshold={threshold})\",\n",
    "        \"Train Accuracy\": accuracy_score(y_train, y_train_pred),\n",
    "        \"Test Accuracy\": accuracy_score(y_true, y_pred_thresh),\n",
    "        \"Precision\": precision_score(y_true, y_pred_thresh, zero_division=0),\n",
    "        \"Recall\": recall_score(y_true, y_pred_thresh),\n",
    "        \"F1 Score\": f1_score(y_true, y_pred_thresh),\n",
    "        \"ROC AUC Train\": roc_auc_score(y_train, y_train_proba),\n",
    "        \"ROC AUC Test\": roc_auc_score(y_true, y_pred_proba),\n",
    "        \"Training Time (s)\": round(training_time, 4)\n",
    "    }"
   ]
  },
  {
   "cell_type": "code",
   "execution_count": 55,
   "metadata": {},
   "outputs": [
    {
     "name": "stdout",
     "output_type": "stream",
     "text": [
      "Fitting 5 folds for each of 5 candidates, totalling 25 fits\n"
     ]
    }
   ],
   "source": [
    "# Define model and hyperparameter grid (no pipeline)\n",
    "logreg = LogisticRegression(max_iter=1000, random_state=42)\n",
    "\n",
    "logreg_param_grid = {\n",
    "    'C': [0.001, 0.01, 0.1, 1, 10],\n",
    "    'penalty': ['l2'],\n",
    "    'solver': ['lbfgs'],\n",
    "    'class_weight': ['balanced']\n",
    "}\n",
    "\n",
    "# Grid search with 5-fold CV\n",
    "grid_logreg = GridSearchCV(\n",
    "    logreg,\n",
    "    logreg_param_grid,\n",
    "    cv=5,\n",
    "    scoring='f1',\n",
    "    n_jobs=-1,\n",
    "    verbose=1\n",
    ")\n",
    "\n",
    "# Fit using balanced and preprocessed data\n",
    "grid_logreg.fit(X_train_balanced, y_train_balanced)\n",
    "\n",
    "# Best model\n",
    "best_logreg_model = grid_logreg.best_estimator_\n",
    "\n",
    "# Start timer\n",
    "start_time = time.time()\n",
    "\n",
    "# Predict on original preprocessed sets\n",
    "y_train_pred = best_logreg_model.predict(X_train_processed)\n",
    "y_pred = best_logreg_model.predict(X_test_processed)\n",
    "y_train_proba = best_logreg_model.predict_proba(X_train_processed)[:, 1]\n",
    "y_proba = best_logreg_model.predict_proba(X_test_processed)[:, 1]\n",
    "\n",
    "# End timer\n",
    "training_time = round(time.time() - start_time, 4)\n",
    "\n",
    "# Threshold tuning (change this value as needed)\n",
    "threshold = 0.4\n",
    "y_pred_thresh = (y_proba >= threshold).astype(int)\n",
    "\n",
    "# # Evaluate at custom threshold\n",
    "# logreg_tuned_metrics = {\n",
    "#     \"Model\": f\"LogReg (Tuned, threshold={threshold})\",\n",
    "#     \"Train Accuracy\": accuracy_score(y_train, y_train_pred),\n",
    "#     \"Test Accuracy\": accuracy_score(y_test, y_pred_thresh),\n",
    "#     \"Precision\": precision_score(y_test, y_pred_thresh),\n",
    "#     \"Recall\": recall_score(y_test, y_pred_thresh),\n",
    "#     \"F1 Score\": f1_score(y_test, y_pred_thresh),\n",
    "#     \"ROC AUC Train\": roc_auc_score(y_train, y_train_proba),\n",
    "#     \"ROC AUC Test\": roc_auc_score(y_test, y_proba),\n",
    "#     \"Training Time (s)\": training_time\n",
    "# }\n",
    "\n",
    "# # Convert to DataFrame\n",
    "# logreg_tuned_df = pd.DataFrame([logreg_tuned_metrics])\n",
    "# logreg_tuned_df\n"
   ]
  },
  {
   "cell_type": "code",
   "execution_count": 70,
   "metadata": {},
   "outputs": [
    {
     "data": {
      "text/html": [
       "<div>\n",
       "<style scoped>\n",
       "    .dataframe tbody tr th:only-of-type {\n",
       "        vertical-align: middle;\n",
       "    }\n",
       "\n",
       "    .dataframe tbody tr th {\n",
       "        vertical-align: top;\n",
       "    }\n",
       "\n",
       "    .dataframe thead th {\n",
       "        text-align: right;\n",
       "    }\n",
       "</style>\n",
       "<table border=\"1\" class=\"dataframe\">\n",
       "  <thead>\n",
       "    <tr style=\"text-align: right;\">\n",
       "      <th></th>\n",
       "      <th>Model</th>\n",
       "      <th>Train Accuracy</th>\n",
       "      <th>Test Accuracy</th>\n",
       "      <th>Precision</th>\n",
       "      <th>Recall</th>\n",
       "      <th>F1 Score</th>\n",
       "      <th>ROC AUC Train</th>\n",
       "      <th>ROC AUC Test</th>\n",
       "      <th>Training Time (s)</th>\n",
       "    </tr>\n",
       "  </thead>\n",
       "  <tbody>\n",
       "    <tr>\n",
       "      <th>0</th>\n",
       "      <td>LogReg (Tuned) (threshold=0.6)</td>\n",
       "      <td>0.947279</td>\n",
       "      <td>0.812171</td>\n",
       "      <td>0.232277</td>\n",
       "      <td>0.289511</td>\n",
       "      <td>0.257755</td>\n",
       "      <td>0.94998</td>\n",
       "      <td>0.679313</td>\n",
       "      <td>46.0978</td>\n",
       "    </tr>\n",
       "  </tbody>\n",
       "</table>\n",
       "</div>"
      ],
      "text/plain": [
       "                            Model  Train Accuracy  Test Accuracy  Precision  \\\n",
       "0  LogReg (Tuned) (threshold=0.6)        0.947279       0.812171   0.232277   \n",
       "\n",
       "     Recall  F1 Score  ROC AUC Train  ROC AUC Test  Training Time (s)  \n",
       "0  0.289511  0.257755        0.94998      0.679313            46.0978  "
      ]
     },
     "execution_count": 70,
     "metadata": {},
     "output_type": "execute_result"
    }
   ],
   "source": [
    "logreg_tuned_metrics = evaluate_with_threshold(\n",
    "    model_name=\"LogReg (Tuned)\",\n",
    "    y_true=y_test,\n",
    "    y_pred_proba=y_proba,\n",
    "    threshold=0.6,\n",
    "    y_train=y_train,\n",
    "    y_train_pred=y_train_pred,\n",
    "    y_train_proba=y_train_proba,\n",
    "    training_time=training_time\n",
    ")\n",
    "\n",
    "logreg_tuned_df = pd.DataFrame([logreg_tuned_metrics])\n",
    "logreg_tuned_df"
   ]
  },
  {
   "cell_type": "code",
   "execution_count": 61,
   "metadata": {},
   "outputs": [
    {
     "data": {
      "text/html": [
       "<div>\n",
       "<style scoped>\n",
       "    .dataframe tbody tr th:only-of-type {\n",
       "        vertical-align: middle;\n",
       "    }\n",
       "\n",
       "    .dataframe tbody tr th {\n",
       "        vertical-align: top;\n",
       "    }\n",
       "\n",
       "    .dataframe thead th {\n",
       "        text-align: right;\n",
       "    }\n",
       "</style>\n",
       "<table border=\"1\" class=\"dataframe\">\n",
       "  <thead>\n",
       "    <tr style=\"text-align: right;\">\n",
       "      <th></th>\n",
       "      <th>Threshold</th>\n",
       "      <th>Precision</th>\n",
       "      <th>Recall</th>\n",
       "      <th>F1 Score</th>\n",
       "    </tr>\n",
       "  </thead>\n",
       "  <tbody>\n",
       "    <tr>\n",
       "      <th>11</th>\n",
       "      <td>0.55</td>\n",
       "      <td>0.175513</td>\n",
       "      <td>0.596264</td>\n",
       "      <td>0.271198</td>\n",
       "    </tr>\n",
       "    <tr>\n",
       "      <th>10</th>\n",
       "      <td>0.50</td>\n",
       "      <td>0.157516</td>\n",
       "      <td>0.770833</td>\n",
       "      <td>0.261580</td>\n",
       "    </tr>\n",
       "    <tr>\n",
       "      <th>12</th>\n",
       "      <td>0.60</td>\n",
       "      <td>0.232277</td>\n",
       "      <td>0.289511</td>\n",
       "      <td>0.257755</td>\n",
       "    </tr>\n",
       "    <tr>\n",
       "      <th>9</th>\n",
       "      <td>0.45</td>\n",
       "      <td>0.148752</td>\n",
       "      <td>0.839080</td>\n",
       "      <td>0.252704</td>\n",
       "    </tr>\n",
       "    <tr>\n",
       "      <th>8</th>\n",
       "      <td>0.40</td>\n",
       "      <td>0.147250</td>\n",
       "      <td>0.846264</td>\n",
       "      <td>0.250852</td>\n",
       "    </tr>\n",
       "    <tr>\n",
       "      <th>7</th>\n",
       "      <td>0.35</td>\n",
       "      <td>0.139600</td>\n",
       "      <td>0.888649</td>\n",
       "      <td>0.241295</td>\n",
       "    </tr>\n",
       "    <tr>\n",
       "      <th>6</th>\n",
       "      <td>0.30</td>\n",
       "      <td>0.124894</td>\n",
       "      <td>0.949713</td>\n",
       "      <td>0.220756</td>\n",
       "    </tr>\n",
       "    <tr>\n",
       "      <th>0</th>\n",
       "      <td>0.00</td>\n",
       "      <td>0.112649</td>\n",
       "      <td>1.000000</td>\n",
       "      <td>0.202487</td>\n",
       "    </tr>\n",
       "    <tr>\n",
       "      <th>1</th>\n",
       "      <td>0.05</td>\n",
       "      <td>0.112649</td>\n",
       "      <td>1.000000</td>\n",
       "      <td>0.202487</td>\n",
       "    </tr>\n",
       "    <tr>\n",
       "      <th>2</th>\n",
       "      <td>0.10</td>\n",
       "      <td>0.112649</td>\n",
       "      <td>1.000000</td>\n",
       "      <td>0.202487</td>\n",
       "    </tr>\n",
       "  </tbody>\n",
       "</table>\n",
       "</div>"
      ],
      "text/plain": [
       "    Threshold  Precision    Recall  F1 Score\n",
       "11       0.55   0.175513  0.596264  0.271198\n",
       "10       0.50   0.157516  0.770833  0.261580\n",
       "12       0.60   0.232277  0.289511  0.257755\n",
       "9        0.45   0.148752  0.839080  0.252704\n",
       "8        0.40   0.147250  0.846264  0.250852\n",
       "7        0.35   0.139600  0.888649  0.241295\n",
       "6        0.30   0.124894  0.949713  0.220756\n",
       "0        0.00   0.112649  1.000000  0.202487\n",
       "1        0.05   0.112649  1.000000  0.202487\n",
       "2        0.10   0.112649  1.000000  0.202487"
      ]
     },
     "metadata": {},
     "output_type": "display_data"
    }
   ],
   "source": [
    "# Thresholds to test\n",
    "thresholds = np.arange(0.0, 1.01, 0.05)\n",
    "\n",
    "# Store results\n",
    "logreg_threshold_data = []\n",
    "\n",
    "for t in thresholds:\n",
    "    y_pred_t = (y_proba >= t).astype(int)  # y_proba is from logistic regression\n",
    "\n",
    "    if y_pred_t.sum() == 0:\n",
    "        continue  # Avoid divide-by-zero when no positives are predicted\n",
    "\n",
    "    prec = precision_score(y_test, y_pred_t, zero_division=0)\n",
    "    rec = recall_score(y_test, y_pred_t)\n",
    "    f1 = f1_score(y_test, y_pred_t)\n",
    "\n",
    "    logreg_threshold_data.append((t, prec, rec, f1))\n",
    "\n",
    "# Create DataFrame\n",
    "logreg_threshold_df = pd.DataFrame(\n",
    "    logreg_threshold_data, \n",
    "    columns=['Threshold', 'Precision', 'Recall', 'F1 Score']\n",
    ")\n",
    "\n",
    "# Sort by F1 Score\n",
    "logreg_threshold_df_sorted = logreg_threshold_df.sort_values(by='F1 Score', ascending=False)\n",
    "\n",
    "# Display top results\n",
    "display(logreg_threshold_df_sorted.head(10))\n"
   ]
  },
  {
   "cell_type": "code",
   "execution_count": 54,
   "metadata": {},
   "outputs": [
    {
     "name": "stderr",
     "output_type": "stream",
     "text": [
      "/home/sal-dev/anaconda3/lib/python3.12/site-packages/sklearn/metrics/_classification.py:1565: UndefinedMetricWarning: Precision is ill-defined and being set to 0.0 due to no predicted samples. Use `zero_division` parameter to control this behavior.\n",
      "  _warn_prf(average, modifier, f\"{metric.capitalize()} is\", len(result))\n",
      "/home/sal-dev/anaconda3/lib/python3.12/site-packages/sklearn/metrics/_classification.py:1565: UndefinedMetricWarning: Precision is ill-defined and being set to 0.0 due to no predicted samples. Use `zero_division` parameter to control this behavior.\n",
      "  _warn_prf(average, modifier, f\"{metric.capitalize()} is\", len(result))\n",
      "/home/sal-dev/anaconda3/lib/python3.12/site-packages/sklearn/metrics/_classification.py:1565: UndefinedMetricWarning: Precision is ill-defined and being set to 0.0 due to no predicted samples. Use `zero_division` parameter to control this behavior.\n",
      "  _warn_prf(average, modifier, f\"{metric.capitalize()} is\", len(result))\n",
      "/home/sal-dev/anaconda3/lib/python3.12/site-packages/sklearn/metrics/_classification.py:1565: UndefinedMetricWarning: Precision is ill-defined and being set to 0.0 due to no predicted samples. Use `zero_division` parameter to control this behavior.\n",
      "  _warn_prf(average, modifier, f\"{metric.capitalize()} is\", len(result))\n",
      "/home/sal-dev/anaconda3/lib/python3.12/site-packages/sklearn/metrics/_classification.py:1565: UndefinedMetricWarning: Precision is ill-defined and being set to 0.0 due to no predicted samples. Use `zero_division` parameter to control this behavior.\n",
      "  _warn_prf(average, modifier, f\"{metric.capitalize()} is\", len(result))\n",
      "/home/sal-dev/anaconda3/lib/python3.12/site-packages/sklearn/metrics/_classification.py:1565: UndefinedMetricWarning: Precision is ill-defined and being set to 0.0 due to no predicted samples. Use `zero_division` parameter to control this behavior.\n",
      "  _warn_prf(average, modifier, f\"{metric.capitalize()} is\", len(result))\n",
      "/home/sal-dev/anaconda3/lib/python3.12/site-packages/sklearn/metrics/_classification.py:1565: UndefinedMetricWarning: Precision is ill-defined and being set to 0.0 due to no predicted samples. Use `zero_division` parameter to control this behavior.\n",
      "  _warn_prf(average, modifier, f\"{metric.capitalize()} is\", len(result))\n",
      "/home/sal-dev/anaconda3/lib/python3.12/site-packages/sklearn/metrics/_classification.py:1565: UndefinedMetricWarning: Precision is ill-defined and being set to 0.0 due to no predicted samples. Use `zero_division` parameter to control this behavior.\n",
      "  _warn_prf(average, modifier, f\"{metric.capitalize()} is\", len(result))\n",
      "/home/sal-dev/anaconda3/lib/python3.12/site-packages/sklearn/metrics/_classification.py:1565: UndefinedMetricWarning: Precision is ill-defined and being set to 0.0 due to no predicted samples. Use `zero_division` parameter to control this behavior.\n",
      "  _warn_prf(average, modifier, f\"{metric.capitalize()} is\", len(result))\n",
      "/home/sal-dev/anaconda3/lib/python3.12/site-packages/sklearn/metrics/_classification.py:1565: UndefinedMetricWarning: Precision is ill-defined and being set to 0.0 due to no predicted samples. Use `zero_division` parameter to control this behavior.\n",
      "  _warn_prf(average, modifier, f\"{metric.capitalize()} is\", len(result))\n",
      "/home/sal-dev/anaconda3/lib/python3.12/site-packages/sklearn/metrics/_classification.py:1565: UndefinedMetricWarning: Precision is ill-defined and being set to 0.0 due to no predicted samples. Use `zero_division` parameter to control this behavior.\n",
      "  _warn_prf(average, modifier, f\"{metric.capitalize()} is\", len(result))\n",
      "/home/sal-dev/anaconda3/lib/python3.12/site-packages/sklearn/metrics/_classification.py:1565: UndefinedMetricWarning: Precision is ill-defined and being set to 0.0 due to no predicted samples. Use `zero_division` parameter to control this behavior.\n",
      "  _warn_prf(average, modifier, f\"{metric.capitalize()} is\", len(result))\n",
      "/home/sal-dev/anaconda3/lib/python3.12/site-packages/sklearn/metrics/_classification.py:1565: UndefinedMetricWarning: Precision is ill-defined and being set to 0.0 due to no predicted samples. Use `zero_division` parameter to control this behavior.\n",
      "  _warn_prf(average, modifier, f\"{metric.capitalize()} is\", len(result))\n",
      "/home/sal-dev/anaconda3/lib/python3.12/site-packages/sklearn/metrics/_classification.py:1565: UndefinedMetricWarning: Precision is ill-defined and being set to 0.0 due to no predicted samples. Use `zero_division` parameter to control this behavior.\n",
      "  _warn_prf(average, modifier, f\"{metric.capitalize()} is\", len(result))\n",
      "/home/sal-dev/anaconda3/lib/python3.12/site-packages/sklearn/metrics/_classification.py:1565: UndefinedMetricWarning: Precision is ill-defined and being set to 0.0 due to no predicted samples. Use `zero_division` parameter to control this behavior.\n",
      "  _warn_prf(average, modifier, f\"{metric.capitalize()} is\", len(result))\n"
     ]
    },
    {
     "data": {
      "image/png": "[encoded data removed]",
      "text/plain": [
       "<Figure size 1000x600 with 1 Axes>"
      ]
     },
     "metadata": {},
     "output_type": "display_data"
    }
   ],
   "source": [
    "# Generate thresholds\n",
    "thresholds = np.linspace(0.01, 0.99, 100)\n",
    "\n",
    "# Lists to hold metric values\n",
    "precisions = []\n",
    "recalls = []\n",
    "f1_scores = []\n",
    "\n",
    "# Evaluate metrics at each threshold\n",
    "for t in thresholds:\n",
    "    y_pred_t = (y_proba >= t).astype(int)\n",
    "    precisions.append(precision_score(y_test, y_pred_t))\n",
    "    recalls.append(recall_score(y_test, y_pred_t))\n",
    "    f1_scores.append(f1_score(y_test, y_pred_t))\n",
    "\n",
    "# Find threshold with highest F1\n",
    "best_f1_idx = np.argmax(f1_scores)\n",
    "best_threshold = thresholds[best_f1_idx]\n",
    "best_f1 = f1_scores[best_f1_idx]\n",
    "\n",
    "# Plot all metrics\n",
    "plt.figure(figsize=(10, 6))\n",
    "plt.plot(thresholds, precisions, label='Precision', color='blue')\n",
    "plt.plot(thresholds, recalls, label='Recall', color='green')\n",
    "plt.plot(thresholds, f1_scores, label='F1 Score', color='purple')\n",
    "plt.axvline(0.5, linestyle='--', color='gray', label='Default Threshold = 0.5')\n",
    "plt.axvline(best_threshold, linestyle='--', color='red', label=f'Best F1 = {best_f1:.3f} @ {best_threshold:.2f}')\n",
    "plt.xlabel('Threshold')\n",
    "plt.ylabel('Score')\n",
    "plt.title('Precision, Recall, and F1 Score vs Threshold')\n",
    "plt.legend(loc='best')\n",
    "plt.grid(True)\n",
    "plt.tight_layout()\n",
    "plt.show()"
   ]
  },
  {
   "cell_type": "markdown",
   "metadata": {},
   "source": [
    "#### Grid Search for KNeighboors ####"
   ]
  },
  {
   "cell_type": "code",
   "execution_count": 69,
   "metadata": {},
   "outputs": [
    {
     "name": "stdout",
     "output_type": "stream",
     "text": [
      "Fitting 5 folds for each of 64 candidates, totalling 320 fits\n"
     ]
    },
    {
     "data": {
      "text/html": [
       "<div>\n",
       "<style scoped>\n",
       "    .dataframe tbody tr th:only-of-type {\n",
       "        vertical-align: middle;\n",
       "    }\n",
       "\n",
       "    .dataframe tbody tr th {\n",
       "        vertical-align: top;\n",
       "    }\n",
       "\n",
       "    .dataframe thead th {\n",
       "        text-align: right;\n",
       "    }\n",
       "</style>\n",
       "<table border=\"1\" class=\"dataframe\">\n",
       "  <thead>\n",
       "    <tr style=\"text-align: right;\">\n",
       "      <th></th>\n",
       "      <th>Model</th>\n",
       "      <th>Train Accuracy</th>\n",
       "      <th>Test Accuracy</th>\n",
       "      <th>Precision</th>\n",
       "      <th>Recall</th>\n",
       "      <th>F1 Score</th>\n",
       "      <th>ROC AUC Train</th>\n",
       "      <th>ROC AUC Test</th>\n",
       "      <th>Training Time (s)</th>\n",
       "    </tr>\n",
       "  </thead>\n",
       "  <tbody>\n",
       "    <tr>\n",
       "      <th>0</th>\n",
       "      <td>KNN (Tuned)</td>\n",
       "      <td>0.947279</td>\n",
       "      <td>0.841952</td>\n",
       "      <td>0.288621</td>\n",
       "      <td>0.275144</td>\n",
       "      <td>0.281721</td>\n",
       "      <td>0.94998</td>\n",
       "      <td>0.629078</td>\n",
       "      <td>46.0978</td>\n",
       "    </tr>\n",
       "  </tbody>\n",
       "</table>\n",
       "</div>"
      ],
      "text/plain": [
       "         Model  Train Accuracy  Test Accuracy  Precision    Recall  F1 Score  \\\n",
       "0  KNN (Tuned)        0.947279       0.841952   0.288621  0.275144  0.281721   \n",
       "\n",
       "   ROC AUC Train  ROC AUC Test  Training Time (s)  \n",
       "0        0.94998      0.629078            46.0978  "
      ]
     },
     "execution_count": 69,
     "metadata": {},
     "output_type": "execute_result"
    }
   ],
   "source": [
    "# Define hyperparameter grid\n",
    "knn_param_grid = {\n",
    "    'n_neighbors': [5, 10, 15, 20],\n",
    "    'weights': ['uniform', 'distance'],\n",
    "    # 'metric': ['euclidean', 'manhattan', 'minkowski']\n",
    "    'algorithm': ['auto', 'ball_tree', 'kd_tree', 'brute'],\n",
    "    'p': [1,2]\n",
    "}\n",
    "\n",
    "# GridSearchCV using processed and SMOTE-balanced data\n",
    "knn_model = KNeighborsClassifier()\n",
    "grid_knn = GridSearchCV(knn_model, knn_param_grid, cv=5, scoring='accuracy', n_jobs=-1, verbose=1)\n",
    "grid_knn.fit(X_train_balanced, y_train_balanced)\n",
    "\n",
    "# Best model\n",
    "best_knn_model = grid_knn.best_estimator_\n",
    "\n",
    "# Timer\n",
    "start_time = time.time()\n",
    "\n",
    "# Predictions\n",
    "y_train_pred = best_knn_model.predict(X_train_processed)\n",
    "y_pred = best_knn_model.predict(X_test_processed)\n",
    "y_train_proba = best_knn_model.predict_proba(X_train_processed)[:, 1]\n",
    "y_test_proba = best_knn_model.predict_proba(X_test_processed)[:, 1]\n",
    "\n",
    "# End timer\n",
    "training_time = round(time.time() - start_time, 4)\n",
    "\n",
    "# Metrics\n",
    "knn_tuned_metrics = {\n",
    "    \"Model\": \"KNN (Tuned)\",\n",
    "    \"Train Accuracy\": accuracy_score(y_train, y_train_pred),\n",
    "    \"Test Accuracy\": accuracy_score(y_test, y_pred),\n",
    "    \"Precision\": precision_score(y_test, y_pred),\n",
    "    \"Recall\": recall_score(y_test, y_pred),\n",
    "    \"F1 Score\": f1_score(y_test, y_pred),\n",
    "    \"ROC AUC Train\": roc_auc_score(y_train, y_train_proba),\n",
    "    \"ROC AUC Test\": roc_auc_score(y_test, y_test_proba),\n",
    "    \"Training Time (s)\": training_time\n",
    "}\n",
    "\n",
    "# Convert to DataFrame\n",
    "knn_tuned_df = pd.DataFrame([knn_tuned_metrics])\n",
    "knn_tuned_df"
   ]
  },
  {
   "cell_type": "code",
   "execution_count": 43,
   "metadata": {},
   "outputs": [
    {
     "data": {
      "image/png": "[encoded data removed]",
      "text/plain": [
       "<Figure size 800x600 with 1 Axes>"
      ]
     },
     "metadata": {},
     "output_type": "display_data"
    }
   ],
   "source": [
    "train_auc = roc_auc_score(y_train, y_train_proba)\n",
    "test_auc = roc_auc_score(y_test, y_test_proba)\n",
    "\n",
    "# Get ROC curves\n",
    "fpr_train, tpr_train, _ = roc_curve(y_train, y_train_proba)\n",
    "fpr_test, tpr_test, _ = roc_curve(y_test, y_test_proba)\n",
    "\n",
    "# Plot both curves\n",
    "plt.figure(figsize=(8, 6))\n",
    "plt.plot(fpr_train, tpr_train, label=f'Train AUC = {train_auc:.3f}', color='blue')\n",
    "plt.plot(fpr_test, tpr_test, label=f'Test AUC = {test_auc:.3f}', color='green')\n",
    "plt.plot([0, 1], [0, 1], 'k--', label='Random (AUC = 0.5)')\n",
    "\n",
    "plt.xlabel('False Positive Rate')\n",
    "plt.ylabel('True Positive Rate')\n",
    "plt.title('ROC Curve – Train vs. Test')\n",
    "plt.legend(loc='lower right')\n",
    "plt.grid(True)\n",
    "plt.show()"
   ]
  },
  {
   "cell_type": "markdown",
   "metadata": {},
   "source": [
    "#### Gridsearch DecisionTree ####"
   ]
  },
  {
   "cell_type": "code",
   "execution_count": 73,
   "metadata": {},
   "outputs": [
    {
     "name": "stdout",
     "output_type": "stream",
     "text": [
      "Fitting 5 folds for each of 72 candidates, totalling 360 fits\n"
     ]
    },
    {
     "data": {
      "text/html": [
       "<div>\n",
       "<style scoped>\n",
       "    .dataframe tbody tr th:only-of-type {\n",
       "        vertical-align: middle;\n",
       "    }\n",
       "\n",
       "    .dataframe tbody tr th {\n",
       "        vertical-align: top;\n",
       "    }\n",
       "\n",
       "    .dataframe thead th {\n",
       "        text-align: right;\n",
       "    }\n",
       "</style>\n",
       "<table border=\"1\" class=\"dataframe\">\n",
       "  <thead>\n",
       "    <tr style=\"text-align: right;\">\n",
       "      <th></th>\n",
       "      <th>Model</th>\n",
       "      <th>Train Accuracy</th>\n",
       "      <th>Test Accuracy</th>\n",
       "      <th>Precision</th>\n",
       "      <th>Recall</th>\n",
       "      <th>F1 Score</th>\n",
       "      <th>ROC AUC Train</th>\n",
       "      <th>ROC AUC Test</th>\n",
       "      <th>Training Time (s)</th>\n",
       "    </tr>\n",
       "  </thead>\n",
       "  <tbody>\n",
       "    <tr>\n",
       "      <th>0</th>\n",
       "      <td>Decision Tree (Tuned)</td>\n",
       "      <td>0.870833</td>\n",
       "      <td>0.86801</td>\n",
       "      <td>0.400167</td>\n",
       "      <td>0.344109</td>\n",
       "      <td>0.370027</td>\n",
       "      <td>0.757002</td>\n",
       "      <td>0.721571</td>\n",
       "      <td>10.7601</td>\n",
       "    </tr>\n",
       "  </tbody>\n",
       "</table>\n",
       "</div>"
      ],
      "text/plain": [
       "                   Model  Train Accuracy  Test Accuracy  Precision    Recall  \\\n",
       "0  Decision Tree (Tuned)        0.870833        0.86801   0.400167  0.344109   \n",
       "\n",
       "   F1 Score  ROC AUC Train  ROC AUC Test  Training Time (s)  \n",
       "0  0.370027       0.757002      0.721571            10.7601  "
      ]
     },
     "execution_count": 73,
     "metadata": {},
     "output_type": "execute_result"
    }
   ],
   "source": [
    "# Define the model\n",
    "tree_model = DecisionTreeClassifier(random_state=42, class_weight='balanced')\n",
    "\n",
    "# Define hyperparameter grid\n",
    "tree_param_grid = {\n",
    "    'max_depth': [3, 5, 7, 10],\n",
    "    'min_samples_split': [5, 10, 15],\n",
    "    'min_samples_leaf': [3, 5, 10],\n",
    "    'criterion': ['gini', 'entropy']\n",
    "}\n",
    "\n",
    "# Grid search\n",
    "grid_tree = GridSearchCV(tree_model, tree_param_grid, cv=5, scoring='accuracy', n_jobs=-1, verbose=1)\n",
    "start_time = time.time()\n",
    "grid_tree.fit(X_train_balanced, y_train_balanced)\n",
    "training_time = round(time.time() - start_time, 4)\n",
    "\n",
    "# Best model\n",
    "best_tree_model = grid_tree.best_estimator_\n",
    "\n",
    "# Predict\n",
    "y_train_pred_tree = best_tree_model.predict(X_train_processed)\n",
    "y_pred_tree = best_tree_model.predict(X_test_processed)\n",
    "y_train_proba_tree = best_tree_model.predict_proba(X_train_processed)[:, 1]\n",
    "y_proba_tree = best_tree_model.predict_proba(X_test_processed)[:, 1]\n",
    "\n",
    "# Metrics\n",
    "tree_tuned_metrics = {\n",
    "    \"Model\": \"Decision Tree (Tuned)\",\n",
    "    \"Train Accuracy\": accuracy_score(y_train, y_train_pred_tree),\n",
    "    \"Test Accuracy\": accuracy_score(y_test, y_pred_tree),\n",
    "    \"Precision\": precision_score(y_test, y_pred_tree),\n",
    "    \"Recall\": recall_score(y_test, y_pred_tree),\n",
    "    \"F1 Score\": f1_score(y_test, y_pred_tree),\n",
    "    \"ROC AUC Train\": roc_auc_score(y_train, y_train_proba_tree),\n",
    "    \"ROC AUC Test\": roc_auc_score(y_test, y_proba_tree),\n",
    "    \"Training Time (s)\": training_time\n",
    "}\n",
    "\n",
    "# To DataFrame\n",
    "tree_tuned_df = pd.DataFrame([tree_tuned_metrics])\n",
    "tree_tuned_df\n"
   ]
  },
  {
   "cell_type": "code",
   "execution_count": null,
   "metadata": {},
   "outputs": [
    {
     "name": "stdout",
     "output_type": "stream",
     "text": [
      "Fitting 5 folds for each of 12 candidates, totalling 60 fits\n"
     ]
    }
   ],
   "source": [
    "# Define the SVM model (no probabilities for speed)\n",
    "svm_model = SVC(class_weight='balanced', random_state=42)\n",
    "\n",
    "# Define the parameter grid\n",
    "svm_param_grid = {\n",
    "    'C': [0.1, 1, 10],\n",
    "    'kernel': ['linear', 'rbf'],\n",
    "    'gamma': ['scale', 'auto']\n",
    "}\n",
    "\n",
    "# Grid search with cross-validation\n",
    "grid_svm = GridSearchCV(\n",
    "    svm_model,\n",
    "    svm_param_grid,\n",
    "    cv=5,\n",
    "    scoring='recall',  # or 'roc_auc', 'recall', etc.\n",
    "    n_jobs=-1,\n",
    "    verbose=1\n",
    ")\n",
    "\n",
    "# Train the model\n",
    "start_time = time.time()\n",
    "grid_svm.fit(X_train_balanced, y_train_balanced)\n",
    "training_time = round(time.time() - start_time, 4)\n",
    "\n",
    "# Best estimator\n",
    "best_svm_model = grid_svm.best_estimator_\n",
    "\n",
    "# Predict\n",
    "y_train_pred_svm = best_svm_model.predict(X_train_processed)\n",
    "y_pred_svm = best_svm_model.predict(X_test_processed)\n",
    "\n",
    "# Use decision_function for ROC AUC (no predict_proba here)\n",
    "y_train_scores_svm = best_svm_model.decision_function(X_train_processed)\n",
    "y_test_scores_svm = best_svm_model.decision_function(X_test_processed)\n",
    "\n",
    "# Metrics\n",
    "svm_tuned_metrics = {\n",
    "    \"Model\": \"SVM (Tuned)\",\n",
    "    \"Train Accuracy\": accuracy_score(y_train, y_train_pred_svm),\n",
    "    \"Test Accuracy\": accuracy_score(y_test, y_pred_svm),\n",
    "    \"Precision\": precision_score(y_test, y_pred_svm),\n",
    "    \"Recall\": recall_score(y_test, y_pred_svm),\n",
    "    \"F1 Score\": f1_score(y_test, y_pred_svm),\n",
    "    \"ROC AUC Train\": roc_auc_score(y_train, y_train_scores_svm),\n",
    "    \"ROC AUC Test\": roc_auc_score(y_test, y_test_scores_svm),\n",
    "    \"Training Time (s)\": training_time\n",
    "}\n",
    "\n",
    "# Results DataFrame\n",
    "svm_tuned_df = pd.DataFrame([svm_tuned_metrics])\n",
    "svm_tuned_df"
   ]
  },
  {
   "cell_type": "code",
   "execution_count": 55,
   "metadata": {},
   "outputs": [
    {
     "data": {
      "image/png": "[encoded data removed]",
      "text/plain": [
       "<Figure size 640x480 with 2 Axes>"
      ]
     },
     "metadata": {},
     "output_type": "display_data"
    }
   ],
   "source": [
    "from sklearn.metrics import confusion_matrix, ConfusionMatrixDisplay\n",
    "\n",
    "cm = confusion_matrix(y_test, y_pred_svm)\n",
    "disp = ConfusionMatrixDisplay(confusion_matrix=cm)\n",
    "disp.plot()\n",
    "plt.title(\"SVM Confusion Matrix\")\n",
    "plt.show()"
   ]
  },
  {
   "cell_type": "code",
   "execution_count": 57,
   "metadata": {},
   "outputs": [
    {
     "data": {
      "image/png": "[encoded data removed]",
      "text/plain": [
       "<Figure size 800x600 with 1 Axes>"
      ]
     },
     "metadata": {},
     "output_type": "display_data"
    }
   ],
   "source": [
    "# Calculate AUC scores for SVM\n",
    "svm_train_auc = roc_auc_score(y_train, y_train_scores_svm)\n",
    "svm_test_auc = roc_auc_score(y_test, y_test_scores_svm)\n",
    "\n",
    "# Get ROC curves\n",
    "fpr_train_svm, tpr_train_svm, _ = roc_curve(y_train, y_train_scores_svm)\n",
    "fpr_test_svm, tpr_test_svm, _ = roc_curve(y_test, y_test_scores_svm)\n",
    "\n",
    "# Plot both curves\n",
    "plt.figure(figsize=(8, 6))\n",
    "plt.plot(fpr_train_svm, tpr_train_svm, label=f'SVM Train AUC = {svm_train_auc:.3f}', color='blue')\n",
    "plt.plot(fpr_test_svm, tpr_test_svm, label=f'SVM Test AUC = {svm_test_auc:.3f}', color='green')\n",
    "plt.plot([0, 1], [0, 1], 'k--', label='Random (AUC = 0.5)')\n",
    "\n",
    "plt.xlabel('False Positive Rate')\n",
    "plt.ylabel('True Positive Rate')\n",
    "plt.title('SVM ROC Curve – Train vs. Test')\n",
    "plt.legend(loc='lower right')\n",
    "plt.grid(True)\n",
    "plt.show()\n"
   ]
  },
  {
   "cell_type": "code",
   "execution_count": null,
   "metadata": {},
   "outputs": [],
   "source": [
    "all_models_df = pd.concat([\n",
    "    logreg_tuned_df,\n",
    "    knn_tuned_df,\n",
    "    tree_tuned_df,\n",
    "    svm_tuned_df\n",
    "], ignore_index=True)\n",
    "\n",
    "# Display the combined table\n",
    "all_models_df"
   ]
  },
  {
   "cell_type": "code",
   "execution_count": null,
   "metadata": {},
   "outputs": [],
   "source": []
  },
  {
   "cell_type": "code",
   "execution_count": null,
   "metadata": {},
   "outputs": [],
   "source": []
  },
  {
   "cell_type": "code",
   "execution_count": null,
   "metadata": {},
   "outputs": [],
   "source": []
  },
  {
   "cell_type": "code",
   "execution_count": null,
   "metadata": {},
   "outputs": [],
   "source": []
  },
  {
   "cell_type": "code",
   "execution_count": null,
   "metadata": {},
   "outputs": [],
   "source": []
  },
  {
   "cell_type": "code",
   "execution_count": null,
   "metadata": {},
   "outputs": [],
   "source": []
  },
  {
   "cell_type": "markdown",
   "metadata": {},
   "source": [
    "##### Questions"
   ]
  }
 ],
 "metadata": {
  "kernelspec": {
   "display_name": "Python 3 (ipykernel)",
   "language": "python",
   "name": "python3"
  },
  "language_info": {
   "codemirror_mode": {
    "name": "ipython",
    "version": 3
   },
   "file_extension": ".py",
   "mimetype": "text/x-python",
   "name": "python",
   "nbconvert_exporter": "python",
   "pygments_lexer": "ipython3",
   "version": "3.12.2"
  },
  "widgets": {
   "application/vnd.jupyter.widget-state+json": {
    "state": {},
    "version_major": 2,
    "version_minor": 0
   }
  }
 },
 "nbformat": 4,
 "nbformat_minor": 4
}
